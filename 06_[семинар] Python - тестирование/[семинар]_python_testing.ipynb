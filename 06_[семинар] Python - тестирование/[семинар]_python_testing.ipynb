{
 "cells": [
  {
   "cell_type": "markdown",
   "metadata": {},
   "source": [
    "### **Python - Тестирование**"
   ]
  },
  {
   "cell_type": "markdown",
   "metadata": {},
   "source": [
    "На лекции поговорим о том, зачем нужны тесты и как их писать. Рассмотрим способы улучшения качества кода и избавления его от багов с помощью различных инструментов: от линтеров до E2E-тестов.\n",
    "Вы узнаете или вспомните, как использовать flake8, mypy, pytest, fixture, coverage, mock, factory boy, faker и многое другое."
   ]
  },
  {
   "cell_type": "code",
   "execution_count": 1,
   "metadata": {},
   "outputs": [],
   "source": [
    "#vibo: первоисточник https://www.youtube.com/watch?v=957lkNw-ThE"
   ]
  },
  {
   "cell_type": "markdown",
   "metadata": {},
   "source": [
    "#### **=== Static Analisis ===** \n",
    "Статические анализаторы (линтеры). Код не запускается. Проверяется синтаксис, неисползуемые переменные, импорты."
   ]
  },
  {
   "cell_type": "markdown",
   "metadata": {},
   "source": [
    "##### **-- pep8 aka pycodestyle**"
   ]
  },
  {
   "cell_type": "code",
   "execution_count": 2,
   "metadata": {},
   "outputs": [
    {
     "name": "stdout",
     "output_type": "stream",
     "text": [
      "pip 22.2.2 from /home/vibo/vs_code/venv-vsc/lib/python3.9/site-packages/pip (python 3.9)\n",
      "Note: you may need to restart the kernel to use updated packages.\n"
     ]
    }
   ],
   "source": [
    "%pip --version"
   ]
  },
  {
   "cell_type": "code",
   "execution_count": 1,
   "metadata": {},
   "outputs": [
    {
     "name": "stdout",
     "output_type": "stream",
     "text": [
      "Requirement already satisfied: pep8 in ./venv-vsc/lib/python3.9/site-packages (1.7.1)\n",
      "Note: you may need to restart the kernel to use updated packages.\n"
     ]
    }
   ],
   "source": [
    "%pip install pep8"
   ]
  },
  {
   "cell_type": "code",
   "execution_count": 2,
   "metadata": {},
   "outputs": [
    {
     "name": "stdout",
     "output_type": "stream",
     "text": [
      "Requirement already satisfied: pep8 in ./venv-vsc/lib/python3.9/site-packages (1.7.1)\n",
      "Note: you may need to restart the kernel to use updated packages.\n"
     ]
    }
   ],
   "source": [
    "%pip install --upgrade pep8"
   ]
  },
  {
   "cell_type": "code",
   "execution_count": null,
   "metadata": {},
   "outputs": [],
   "source": [
    "\n",
    "'''\n",
    "#vibo: пример кода, сохраняем в main0.py\n",
    "\n",
    "import sys\n",
    "\n",
    "def f1(first_long_parameter, second_long_parameter, third_very_long_long_parameter):\n",
    "    b = a + 1\n",
    "'''"
   ]
  },
  {
   "cell_type": "code",
   "execution_count": 3,
   "metadata": {},
   "outputs": [
    {
     "name": "stdout",
     "output_type": "stream",
     "text": [
      "/home/vibo/vs_code/venv-vsc/lib/python3.9/site-packages/pep8.py:110: FutureWarning: Possible nested set at position 1\n",
      "  EXTRANEOUS_WHITESPACE_REGEX = re.compile(r'[[({] | []}),;:]')\n",
      "/home/vibo/vs_code/venv-vsc/lib/python3.9/site-packages/pep8.py:2123: UserWarning: \n",
      "\n",
      "pep8 has been renamed to pycodestyle (GitHub issue #466)\n",
      "Use of the pep8 tool will be removed in a future release.\n",
      "Please install and use `pycodestyle` instead.\n",
      "\n",
      "$ pip install pycodestyle\n",
      "$ pycodestyle ...\n",
      "\n",
      "  warnings.warn(\n",
      "main0.py:3:1: E302 expected 2 blank lines, found 1\n",
      "main0.py:3:80: E501 line too long (84 > 79 characters)\n"
     ]
    }
   ],
   "source": [
    "!python -m pep8 main0.py"
   ]
  },
  {
   "cell_type": "code",
   "execution_count": 6,
   "metadata": {},
   "outputs": [
    {
     "name": "stdout",
     "output_type": "stream",
     "text": [
      "Requirement already satisfied: pycodestyle in ./venv-vsc/lib/python3.9/site-packages (2.9.1)\n",
      "Note: you may need to restart the kernel to use updated packages.\n"
     ]
    }
   ],
   "source": [
    "%pip install pycodestyle"
   ]
  },
  {
   "cell_type": "markdown",
   "metadata": {},
   "source": [
    "##### **-- flake8**"
   ]
  },
  {
   "cell_type": "code",
   "execution_count": 7,
   "metadata": {},
   "outputs": [
    {
     "name": "stdout",
     "output_type": "stream",
     "text": [
      "Requirement already satisfied: flake8 in ./venv-vsc/lib/python3.9/site-packages (5.0.4)\n",
      "Requirement already satisfied: pyflakes<2.6.0,>=2.5.0 in ./venv-vsc/lib/python3.9/site-packages (from flake8) (2.5.0)\n",
      "Requirement already satisfied: pycodestyle<2.10.0,>=2.9.0 in ./venv-vsc/lib/python3.9/site-packages (from flake8) (2.9.1)\n",
      "Requirement already satisfied: mccabe<0.8.0,>=0.7.0 in ./venv-vsc/lib/python3.9/site-packages (from flake8) (0.7.0)\n",
      "Note: you may need to restart the kernel to use updated packages.\n"
     ]
    }
   ],
   "source": [
    "%pip install flake8"
   ]
  },
  {
   "cell_type": "code",
   "execution_count": 5,
   "metadata": {},
   "outputs": [
    {
     "name": "stdout",
     "output_type": "stream",
     "text": [
      "\u001b[1mmain0.py\u001b[m\u001b[36m:\u001b[m1\u001b[36m:\u001b[m1\u001b[36m:\u001b[m \u001b[1m\u001b[31mF401\u001b[m 'sys' imported but unused\n",
      "\u001b[1mmain0.py\u001b[m\u001b[36m:\u001b[m3\u001b[36m:\u001b[m1\u001b[36m:\u001b[m \u001b[1m\u001b[31mE302\u001b[m expected 2 blank lines, found 1\n",
      "\u001b[1mmain0.py\u001b[m\u001b[36m:\u001b[m3\u001b[36m:\u001b[m80\u001b[36m:\u001b[m \u001b[1m\u001b[31mE501\u001b[m line too long (84 > 79 characters)\n",
      "\u001b[1mmain0.py\u001b[m\u001b[36m:\u001b[m4\u001b[36m:\u001b[m5\u001b[36m:\u001b[m \u001b[1m\u001b[31mF841\u001b[m local variable 'b' is assigned to but never used\n",
      "\u001b[1mmain0.py\u001b[m\u001b[36m:\u001b[m4\u001b[36m:\u001b[m9\u001b[36m:\u001b[m \u001b[1m\u001b[31mF821\u001b[m undefined name 'a'\n"
     ]
    }
   ],
   "source": [
    "!python -m flake8 main0.py"
   ]
  },
  {
   "cell_type": "markdown",
   "metadata": {},
   "source": [
    "+flake8 имеет ряд полезных плагионов"
   ]
  },
  {
   "cell_type": "markdown",
   "metadata": {},
   "source": [
    "##### **-- pylint**"
   ]
  },
  {
   "cell_type": "code",
   "execution_count": 8,
   "metadata": {},
   "outputs": [
    {
     "name": "stdout",
     "output_type": "stream",
     "text": [
      "Requirement already satisfied: pylint in ./venv-vsc/lib/python3.9/site-packages (2.14.5)\n",
      "Requirement already satisfied: tomlkit>=0.10.1 in ./venv-vsc/lib/python3.9/site-packages (from pylint) (0.11.1)\n",
      "Requirement already satisfied: typing-extensions>=3.10.0 in ./venv-vsc/lib/python3.9/site-packages (from pylint) (4.3.0)\n",
      "Requirement already satisfied: tomli>=1.1.0 in ./venv-vsc/lib/python3.9/site-packages (from pylint) (2.0.1)\n",
      "Requirement already satisfied: mccabe<0.8,>=0.6 in ./venv-vsc/lib/python3.9/site-packages (from pylint) (0.7.0)\n",
      "Requirement already satisfied: platformdirs>=2.2.0 in ./venv-vsc/lib/python3.9/site-packages (from pylint) (2.5.2)\n",
      "Requirement already satisfied: astroid<=2.12.0-dev0,>=2.11.6 in ./venv-vsc/lib/python3.9/site-packages (from pylint) (2.11.7)\n",
      "Requirement already satisfied: dill>=0.2 in ./venv-vsc/lib/python3.9/site-packages (from pylint) (0.3.5.1)\n",
      "Requirement already satisfied: isort<6,>=4.2.5 in ./venv-vsc/lib/python3.9/site-packages (from pylint) (5.10.1)\n",
      "Requirement already satisfied: lazy-object-proxy>=1.4.0 in ./venv-vsc/lib/python3.9/site-packages (from astroid<=2.12.0-dev0,>=2.11.6->pylint) (1.7.1)\n",
      "Requirement already satisfied: setuptools>=20.0 in ./venv-vsc/lib/python3.9/site-packages (from astroid<=2.12.0-dev0,>=2.11.6->pylint) (58.1.0)\n",
      "Requirement already satisfied: wrapt<2,>=1.11 in ./venv-vsc/lib/python3.9/site-packages (from astroid<=2.12.0-dev0,>=2.11.6->pylint) (1.14.1)\n",
      "Note: you may need to restart the kernel to use updated packages.\n"
     ]
    }
   ],
   "source": [
    "%pip install pylint"
   ]
  },
  {
   "cell_type": "code",
   "execution_count": 9,
   "metadata": {},
   "outputs": [
    {
     "name": "stdout",
     "output_type": "stream",
     "text": [
      "************* Module main0\n",
      "main0.py:1:0: C0114: Missing module docstring (missing-module-docstring)\n",
      "main0.py:3:0: C0116: Missing function or method docstring (missing-function-docstring)\n",
      "main0.py:3:0: C0103: Function name \"f1\" doesn't conform to snake_case naming style (invalid-name)\n",
      "main0.py:4:4: C0103: Variable name \"b\" doesn't conform to snake_case naming style (invalid-name)\n",
      "main0.py:4:8: E0602: Undefined variable 'a' (undefined-variable)\n",
      "main0.py:3:7: W0613: Unused argument 'first_long_parameter' (unused-argument)\n",
      "main0.py:3:29: W0613: Unused argument 'second_long_parameter' (unused-argument)\n",
      "main0.py:3:52: W0613: Unused argument 'third_very_long_long_parameter' (unused-argument)\n",
      "main0.py:4:4: W0612: Unused variable 'b' (unused-variable)\n",
      "main0.py:1:0: W0611: Unused import sys (unused-import)\n",
      "\n",
      "-----------------------------------\n",
      "Your code has been rated at 0.00/10\n",
      "\n"
     ]
    }
   ],
   "source": [
    "!python -m pylint main0.py"
   ]
  },
  {
   "cell_type": "markdown",
   "metadata": {},
   "source": [
    "##### **-- autopep8** (форматер)"
   ]
  },
  {
   "cell_type": "code",
   "execution_count": 10,
   "metadata": {},
   "outputs": [
    {
     "name": "stdout",
     "output_type": "stream",
     "text": [
      "Requirement already satisfied: autopep8 in ./venv-vsc/lib/python3.9/site-packages (1.6.0)\n",
      "Requirement already satisfied: toml in ./venv-vsc/lib/python3.9/site-packages (from autopep8) (0.10.2)\n",
      "Requirement already satisfied: pycodestyle>=2.8.0 in ./venv-vsc/lib/python3.9/site-packages (from autopep8) (2.9.1)\n",
      "Note: you may need to restart the kernel to use updated packages.\n"
     ]
    }
   ],
   "source": [
    "%pip install autopep8"
   ]
  },
  {
   "cell_type": "markdown",
   "metadata": {},
   "source": [
    "##### **-- black** (форматер)"
   ]
  },
  {
   "cell_type": "code",
   "execution_count": 11,
   "metadata": {},
   "outputs": [
    {
     "name": "stdout",
     "output_type": "stream",
     "text": [
      "Requirement already satisfied: black in ./venv-vsc/lib/python3.9/site-packages (22.6.0)\n",
      "Requirement already satisfied: pathspec>=0.9.0 in ./venv-vsc/lib/python3.9/site-packages (from black) (0.9.0)\n",
      "Requirement already satisfied: typing-extensions>=3.10.0.0 in ./venv-vsc/lib/python3.9/site-packages (from black) (4.3.0)\n",
      "Requirement already satisfied: platformdirs>=2 in ./venv-vsc/lib/python3.9/site-packages (from black) (2.5.2)\n",
      "Requirement already satisfied: tomli>=1.1.0 in ./venv-vsc/lib/python3.9/site-packages (from black) (2.0.1)\n",
      "Requirement already satisfied: mypy-extensions>=0.4.3 in ./venv-vsc/lib/python3.9/site-packages (from black) (0.4.3)\n",
      "Requirement already satisfied: click>=8.0.0 in ./venv-vsc/lib/python3.9/site-packages (from black) (8.1.3)\n",
      "Note: you may need to restart the kernel to use updated packages.\n"
     ]
    }
   ],
   "source": [
    "%pip install black"
   ]
  },
  {
   "cell_type": "code",
   "execution_count": 12,
   "metadata": {},
   "outputs": [
    {
     "name": "stdout",
     "output_type": "stream",
     "text": [
      "\u001b[1mreformatted main0.py\u001b[0m\n",
      "\n",
      "\u001b[1mAll done! ✨ 🍰 ✨\u001b[0m\n",
      "\u001b[34m\u001b[1m1 file \u001b[0m\u001b[1mreformatted\u001b[0m.\n"
     ]
    }
   ],
   "source": [
    "!black main0.py"
   ]
  },
  {
   "cell_type": "code",
   "execution_count": 14,
   "metadata": {},
   "outputs": [
    {
     "name": "stdout",
     "output_type": "stream",
     "text": [
      "\u001b[1mreformatted main0.py\u001b[0m\n",
      "\n",
      "\u001b[1mAll done! ✨ 🍰 ✨\u001b[0m\n",
      "\u001b[34m\u001b[1m1 file \u001b[0m\u001b[1mreformatted\u001b[0m.\n"
     ]
    }
   ],
   "source": [
    "!black -S -l 79 main0.py"
   ]
  },
  {
   "cell_type": "markdown",
   "metadata": {},
   "source": [
    "С black нужно быть аккуратным, применяя комментарий # fmt:off ... # fmt:on можно отключить автоформатирование. Количество настроек balk - минимально (версия питона, длинная строки, какие файлы нужно/ненужно форматировать).  "
   ]
  },
  {
   "cell_type": "code",
   "execution_count": 15,
   "metadata": {},
   "outputs": [
    {
     "name": "stdout",
     "output_type": "stream",
     "text": [
      "\u001b[1mAll done! ✨ 🍰 ✨\u001b[0m\n",
      "\u001b[34m1 file \u001b[0mleft unchanged.\n"
     ]
    }
   ],
   "source": [
    "!black -S -l 79 main0_fmt_black.py"
   ]
  },
  {
   "cell_type": "markdown",
   "metadata": {},
   "source": [
    "#### **Аннотации типов (тайпинги) + mypy**"
   ]
  },
  {
   "cell_type": "code",
   "execution_count": 16,
   "metadata": {},
   "outputs": [],
   "source": [
    "#vibo: код без тайпингов\n",
    "def indent_right(s, width):\n",
    "    return \" \" * (max(0, width - len(s))) + s\n",
    "\n",
    "class Book:\n",
    "    def __init__(self, title, author, cost):\n",
    "        self.title = title\n",
    "        self.author = author\n",
    "        self.cost = cost\n",
    "\n",
    "b = Book(title='Fahrenheit 451', author='Bradbury', cost='3,14')"
   ]
  },
  {
   "cell_type": "code",
   "execution_count": 17,
   "metadata": {},
   "outputs": [],
   "source": [
    "#vibo: код с тайпингами (с версии Python 3.5)\n",
    "def indent_right(s: str, width: int) -> str:\n",
    "    return \" \" * (max(0, width - len(s))) + s\n",
    "\n",
    "class Book:\n",
    "    title: str\n",
    "    author: str\n",
    "\n",
    "    def __init__(self, title: str, author: str, cost: int) -> None:\n",
    "        self.title = title\n",
    "        self.author = author\n",
    "        self.cost = cost\n",
    "\n",
    "b = Book(title='Fahrenheit 451', author='Bradbury', cost='3,14')"
   ]
  },
  {
   "cell_type": "code",
   "execution_count": 18,
   "metadata": {},
   "outputs": [
    {
     "name": "stdout",
     "output_type": "stream",
     "text": [
      "Requirement already satisfied: mypy in ./venv-vsc/lib/python3.9/site-packages (0.971)\n",
      "Requirement already satisfied: mypy-extensions>=0.4.3 in ./venv-vsc/lib/python3.9/site-packages (from mypy) (0.4.3)\n",
      "Requirement already satisfied: tomli>=1.1.0 in ./venv-vsc/lib/python3.9/site-packages (from mypy) (2.0.1)\n",
      "Requirement already satisfied: typing-extensions>=3.10 in ./venv-vsc/lib/python3.9/site-packages (from mypy) (4.3.0)\n",
      "Note: you may need to restart the kernel to use updated packages.\n"
     ]
    }
   ],
   "source": [
    "%pip install mypy"
   ]
  },
  {
   "cell_type": "code",
   "execution_count": 19,
   "metadata": {},
   "outputs": [
    {
     "name": "stdout",
     "output_type": "stream",
     "text": [
      "main1_typing.py:13: \u001b[1m\u001b[31merror:\u001b[m Argument \u001b[m\u001b[1m\"cost\"\u001b[m to \u001b[m\u001b[1m\"Book\"\u001b[m has incompatible type \u001b[m\u001b[1m\"str\"\u001b[m; expected \u001b[m\u001b[1m\"int\"\u001b[m\u001b[m\n",
      "\u001b[1m\u001b[31mFound 1 error in 1 file (checked 1 source file)\u001b[m\n"
     ]
    }
   ],
   "source": [
    "!mypy main1_typing.py"
   ]
  },
  {
   "cell_type": "markdown",
   "metadata": {},
   "source": [
    "mypy находит по указанным тайпингам ошибки не соответствия типов данных, которые бы не заметил python."
   ]
  },
  {
   "cell_type": "markdown",
   "metadata": {},
   "source": [
    "#### **=== Unit ===**\n",
    "Юнит-тесты предусматривают запуск в Python частей кода (модули/классы/функции)."
   ]
  },
  {
   "cell_type": "markdown",
   "metadata": {},
   "source": [
    "##### **-- assert**"
   ]
  },
  {
   "cell_type": "code",
   "execution_count": 21,
   "metadata": {},
   "outputs": [
    {
     "ename": "AssertionError",
     "evalue": "_broken_sort fails",
     "output_type": "error",
     "traceback": [
      "\u001b[0;31m---------------------------------------------------------------------------\u001b[0m",
      "\u001b[0;31mAssertionError\u001b[0m                            Traceback (most recent call last)",
      "\u001b[1;32m/home/vibo/vs_code/!!!python_test.ipynb Cell 35\u001b[0m in \u001b[0;36m<cell line: 17>\u001b[0;34m()\u001b[0m\n\u001b[1;32m     <a href='vscode-notebook-cell:/home/vibo/vs_code/%21%21%21python_test.ipynb#ch0000027?line=14'>15</a>\u001b[0m     \u001b[39massert\u001b[39;00m _broken_sort(lst) \u001b[39m==\u001b[39m [\u001b[39m1\u001b[39m, \u001b[39m2\u001b[39m, \u001b[39m3\u001b[39m, \u001b[39m4\u001b[39m, \u001b[39m7\u001b[39m, \u001b[39m8\u001b[39m, \u001b[39m9\u001b[39m], \u001b[39m\"\u001b[39m\u001b[39m_broken_sort fails\u001b[39m\u001b[39m\"\u001b[39m\n\u001b[1;32m     <a href='vscode-notebook-cell:/home/vibo/vs_code/%21%21%21python_test.ipynb#ch0000027?line=16'>17</a>\u001b[0m \u001b[39mif\u001b[39;00m \u001b[39m__name__\u001b[39m \u001b[39m==\u001b[39m \u001b[39m'\u001b[39m\u001b[39m__main__\u001b[39m\u001b[39m'\u001b[39m:\n\u001b[0;32m---> <a href='vscode-notebook-cell:/home/vibo/vs_code/%21%21%21python_test.ipynb#ch0000027?line=17'>18</a>\u001b[0m     test_sort()\n",
      "\u001b[1;32m/home/vibo/vs_code/!!!python_test.ipynb Cell 35\u001b[0m in \u001b[0;36mtest_sort\u001b[0;34m()\u001b[0m\n\u001b[1;32m     <a href='vscode-notebook-cell:/home/vibo/vs_code/%21%21%21python_test.ipynb#ch0000027?line=12'>13</a>\u001b[0m \u001b[39m#vibo: используем оператор assert, провекрка и комментарий\u001b[39;00m\n\u001b[1;32m     <a href='vscode-notebook-cell:/home/vibo/vs_code/%21%21%21python_test.ipynb#ch0000027?line=13'>14</a>\u001b[0m \u001b[39massert\u001b[39;00m _sort(lst) \u001b[39m==\u001b[39m [\u001b[39m1\u001b[39m, \u001b[39m2\u001b[39m, \u001b[39m3\u001b[39m, \u001b[39m4\u001b[39m, \u001b[39m7\u001b[39m, \u001b[39m8\u001b[39m, \u001b[39m9\u001b[39m], \u001b[39m\"\u001b[39m\u001b[39m_sort fails\u001b[39m\u001b[39m\"\u001b[39m\n\u001b[0;32m---> <a href='vscode-notebook-cell:/home/vibo/vs_code/%21%21%21python_test.ipynb#ch0000027?line=14'>15</a>\u001b[0m \u001b[39massert\u001b[39;00m _broken_sort(lst) \u001b[39m==\u001b[39m [\u001b[39m1\u001b[39m, \u001b[39m2\u001b[39m, \u001b[39m3\u001b[39m, \u001b[39m4\u001b[39m, \u001b[39m7\u001b[39m, \u001b[39m8\u001b[39m, \u001b[39m9\u001b[39m], \u001b[39m\"\u001b[39m\u001b[39m_broken_sort fails\u001b[39m\u001b[39m\"\u001b[39m\n",
      "\u001b[0;31mAssertionError\u001b[0m: _broken_sort fails"
     ]
    }
   ],
   "source": [
    "#vibo: нормальная функция сртировки списка\n",
    "def _sort(lst):\n",
    "    return sorted(lst)\n",
    "\n",
    "#vibo: \"сломанная\" функция сортировки списка\n",
    "def _broken_sort(lst):\n",
    "    return sorted(lst[1:])\n",
    "\n",
    "#vibo: функция тестирования сортировки\n",
    "def test_sort():\n",
    "    #vibo: задаем список\n",
    "    lst = [1, 7, 2, 9, 3, 8, 4]\n",
    "    #vibo: используем оператор assert, провекрка и комментарий\n",
    "    assert _sort(lst) == [1, 2, 3, 4, 7, 8, 9], \"_sort fails\"\n",
    "    assert _broken_sort(lst) == [1, 2, 3, 4, 7, 8, 9], \"_broken_sort fails\"\n",
    "\n",
    "if __name__ == '__main__':\n",
    "    test_sort() "
   ]
  },
  {
   "cell_type": "markdown",
   "metadata": {},
   "source": [
    "Так (один оператор assert) не очень удобно, т.к. \"_broken_sort fails\" не пойми о чем говорит, тест упал и все, дальше проверка не идет"
   ]
  },
  {
   "cell_type": "markdown",
   "metadata": {},
   "source": [
    "##### **-- pytest + assert**"
   ]
  },
  {
   "cell_type": "markdown",
   "metadata": {},
   "source": [
    "есть doctest, unitest и pytest;\n",
    "pytest более современный, поддерживает тесты unitest, куча полезных плагинов, например, тот же flake8, coverage (покрытие тестами кода)"
   ]
  },
  {
   "cell_type": "code",
   "execution_count": 22,
   "metadata": {},
   "outputs": [
    {
     "name": "stdout",
     "output_type": "stream",
     "text": [
      "Requirement already satisfied: pytest in ./venv-vsc/lib/python3.9/site-packages (7.1.2)\n",
      "Requirement already satisfied: pluggy<2.0,>=0.12 in ./venv-vsc/lib/python3.9/site-packages (from pytest) (1.0.0)\n",
      "Requirement already satisfied: iniconfig in ./venv-vsc/lib/python3.9/site-packages (from pytest) (1.1.1)\n",
      "Requirement already satisfied: attrs>=19.2.0 in ./venv-vsc/lib/python3.9/site-packages (from pytest) (22.1.0)\n",
      "Requirement already satisfied: tomli>=1.0.0 in ./venv-vsc/lib/python3.9/site-packages (from pytest) (2.0.1)\n",
      "Requirement already satisfied: packaging in ./venv-vsc/lib/python3.9/site-packages (from pytest) (21.3)\n",
      "Requirement already satisfied: py>=1.8.2 in ./venv-vsc/lib/python3.9/site-packages (from pytest) (1.11.0)\n",
      "Requirement already satisfied: pyparsing!=3.0.5,>=2.0.2 in ./venv-vsc/lib/python3.9/site-packages (from packaging->pytest) (3.0.9)\n",
      "Note: you may need to restart the kernel to use updated packages.\n"
     ]
    }
   ],
   "source": [
    "%pip install pytest"
   ]
  },
  {
   "cell_type": "code",
   "execution_count": 23,
   "metadata": {},
   "outputs": [
    {
     "name": "stdout",
     "output_type": "stream",
     "text": [
      "\u001b[1m============================= test session starts ==============================\u001b[0m\n",
      "platform linux -- Python 3.9.9, pytest-7.1.2, pluggy-1.0.0\n",
      "rootdir: /home/vibo/vs_code\n",
      "plugins: hypothesis-6.54.1, Faker-13.15.1, metadata-2.0.2, allure-pytest-2.9.45, json-report-1.5.0\n",
      "collected 1 item                                                               \u001b[0m\n",
      "\n",
      "main2_assert.py \u001b[31mF\u001b[0m\u001b[31m                                                        [100%]\u001b[0m\n",
      "\n",
      "=================================== FAILURES ===================================\n",
      "\u001b[31m\u001b[1m__________________________________ test_sort ___________________________________\u001b[0m\n",
      "\n",
      "    \u001b[94mdef\u001b[39;49;00m \u001b[92mtest_sort\u001b[39;49;00m():\n",
      "        lst = [\u001b[94m1\u001b[39;49;00m, \u001b[94m7\u001b[39;49;00m, \u001b[94m2\u001b[39;49;00m, \u001b[94m9\u001b[39;49;00m, \u001b[94m3\u001b[39;49;00m, \u001b[94m8\u001b[39;49;00m, \u001b[94m4\u001b[39;49;00m]\n",
      "        \u001b[94massert\u001b[39;49;00m _sort(lst) == [\u001b[94m1\u001b[39;49;00m, \u001b[94m2\u001b[39;49;00m, \u001b[94m3\u001b[39;49;00m, \u001b[94m4\u001b[39;49;00m, \u001b[94m7\u001b[39;49;00m, \u001b[94m8\u001b[39;49;00m, \u001b[94m9\u001b[39;49;00m], \u001b[33m\"\u001b[39;49;00m\u001b[33m_sort fails\u001b[39;49;00m\u001b[33m\"\u001b[39;49;00m\n",
      ">       \u001b[94massert\u001b[39;49;00m _broken_sort(lst) == [\u001b[94m1\u001b[39;49;00m, \u001b[94m2\u001b[39;49;00m, \u001b[94m3\u001b[39;49;00m, \u001b[94m4\u001b[39;49;00m, \u001b[94m7\u001b[39;49;00m, \u001b[94m8\u001b[39;49;00m, \u001b[94m9\u001b[39;49;00m], \u001b[33m\"\u001b[39;49;00m\u001b[33m_broken_sort fails\u001b[39;49;00m\u001b[33m\"\u001b[39;49;00m\n",
      "\u001b[1m\u001b[31mE       AssertionError: _broken_sort fails\u001b[0m\n",
      "\u001b[1m\u001b[31mE       assert [2, 3, 4, 7, 8, 9] == [1, 2, 3, 4, 7, 8, ...]\u001b[0m\n",
      "\u001b[1m\u001b[31mE         At index 0 diff: 2 != 1\u001b[0m\n",
      "\u001b[1m\u001b[31mE         Right contains one more item: 9\u001b[0m\n",
      "\u001b[1m\u001b[31mE         Use -v to get more diff\u001b[0m\n",
      "\n",
      "\u001b[1m\u001b[31mmain2_assert.py\u001b[0m:10: AssertionError\n",
      "=========================== short test summary info ============================\n",
      "FAILED main2_assert.py::test_sort - AssertionError: _broken_sort fails\n",
      "\u001b[31m============================== \u001b[31m\u001b[1m1 failed\u001b[0m\u001b[31m in 0.19s\u001b[0m\u001b[31m ===============================\u001b[0m\n"
     ]
    }
   ],
   "source": [
    "!pytest main2_assert.py"
   ]
  },
  {
   "cell_type": "markdown",
   "metadata": {},
   "source": [
    "pytest реагирует на все функции, начинающиеся с test_, конкретно указывает на ошибку  assert [2, 3, 4, 7, 8, 9] == [1, 2, 3, 4, 7, 8, ...]; еще более подробная информация с -v"
   ]
  },
  {
   "cell_type": "code",
   "execution_count": 25,
   "metadata": {},
   "outputs": [
    {
     "name": "stdout",
     "output_type": "stream",
     "text": [
      "\u001b[1m============================= test session starts ==============================\u001b[0m\n",
      "platform linux -- Python 3.9.9, pytest-7.1.2, pluggy-1.0.0 -- /home/vibo/vs_code/venv-vsc/bin/python\n",
      "cachedir: .pytest_cache\n",
      "hypothesis profile 'default' -> database=DirectoryBasedExampleDatabase('/home/vibo/vs_code/.hypothesis/examples')\n",
      "metadata: {'Python': '3.9.9', 'Platform': 'Linux-5.15.59-1-MANJARO-x86_64-with-glibc2.33', 'Packages': {'pytest': '7.1.2', 'py': '1.11.0', 'pluggy': '1.0.0'}, 'Plugins': {'hypothesis': '6.54.1', 'Faker': '13.15.1', 'metadata': '2.0.2', 'allure-pytest': '2.9.45', 'json-report': '1.5.0'}}\n",
      "rootdir: /home/vibo/vs_code\n",
      "plugins: hypothesis-6.54.1, Faker-13.15.1, metadata-2.0.2, allure-pytest-2.9.45, json-report-1.5.0\n",
      "collected 1 item                                                               \u001b[0m\n",
      "\n",
      "main2_assert.py::test_sort \u001b[31mFAILED\u001b[0m\u001b[31m                                        [100%]\u001b[0m\n",
      "\n",
      "=================================== FAILURES ===================================\n",
      "\u001b[31m\u001b[1m__________________________________ test_sort ___________________________________\u001b[0m\n",
      "\n",
      "    \u001b[94mdef\u001b[39;49;00m \u001b[92mtest_sort\u001b[39;49;00m():\n",
      "        lst = [\u001b[94m1\u001b[39;49;00m, \u001b[94m7\u001b[39;49;00m, \u001b[94m2\u001b[39;49;00m, \u001b[94m9\u001b[39;49;00m, \u001b[94m3\u001b[39;49;00m, \u001b[94m8\u001b[39;49;00m, \u001b[94m4\u001b[39;49;00m]\n",
      "        \u001b[94massert\u001b[39;49;00m _sort(lst) == [\u001b[94m1\u001b[39;49;00m, \u001b[94m2\u001b[39;49;00m, \u001b[94m3\u001b[39;49;00m, \u001b[94m4\u001b[39;49;00m, \u001b[94m7\u001b[39;49;00m, \u001b[94m8\u001b[39;49;00m, \u001b[94m9\u001b[39;49;00m], \u001b[33m\"\u001b[39;49;00m\u001b[33m_sort fails\u001b[39;49;00m\u001b[33m\"\u001b[39;49;00m\n",
      ">       \u001b[94massert\u001b[39;49;00m _broken_sort(lst) == [\u001b[94m1\u001b[39;49;00m, \u001b[94m2\u001b[39;49;00m, \u001b[94m3\u001b[39;49;00m, \u001b[94m4\u001b[39;49;00m, \u001b[94m7\u001b[39;49;00m, \u001b[94m8\u001b[39;49;00m, \u001b[94m9\u001b[39;49;00m], \u001b[33m\"\u001b[39;49;00m\u001b[33m_broken_sort fails\u001b[39;49;00m\u001b[33m\"\u001b[39;49;00m\n",
      "\u001b[1m\u001b[31mE       AssertionError: _broken_sort fails\u001b[0m\n",
      "\u001b[1m\u001b[31mE       assert [2, 3, 4, 7, 8, 9] == [1, 2, 3, 4, 7, 8, ...]\u001b[0m\n",
      "\u001b[1m\u001b[31mE         At index 0 diff: 2 != 1\u001b[0m\n",
      "\u001b[1m\u001b[31mE         Right contains one more item: 9\u001b[0m\n",
      "\u001b[1m\u001b[31mE         Full diff:\u001b[0m\n",
      "\u001b[1m\u001b[31mE         - [1, 2, 3, 4, 7, 8, 9]\u001b[0m\n",
      "\u001b[1m\u001b[31mE         ?  ---\u001b[0m\n",
      "\u001b[1m\u001b[31mE         + [2, 3, 4, 7, 8, 9]\u001b[0m\n",
      "\n",
      "\u001b[1m\u001b[31mmain2_assert.py\u001b[0m:10: AssertionError\n",
      "=========================== short test summary info ============================\n",
      "FAILED main2_assert.py::test_sort - AssertionError: _broken_sort fails\n",
      "\u001b[31m============================== \u001b[31m\u001b[1m1 failed\u001b[0m\u001b[31m in 0.32s\u001b[0m\u001b[31m ===============================\u001b[0m\n"
     ]
    }
   ],
   "source": [
    "!pytest main2_assert.py -v"
   ]
  },
  {
   "cell_type": "markdown",
   "metadata": {},
   "source": [
    "##### **-- pytest: raises, xfail, skipif** \n",
    "(набор функций декораторов, которые помогают тесты писать)"
   ]
  },
  {
   "cell_type": "code",
   "execution_count": 43,
   "metadata": {},
   "outputs": [],
   "source": [
    "import pytest\n",
    "import sys\n",
    "\n",
    "\n",
    "#vibo: декоратор raises (проверка исключения) - менеджер контекста\n",
    "def test_raises():\n",
    "    with pytest.raises(IndexError):\n",
    "        kth_stat(1, 0)\n",
    "\n",
    "#vibo: декоратор xfail (позволяет пометить тест как сломаный)\n",
    "@pytest.mark.xfail()\n",
    "def test_raises():\n",
    "    kth_stat([1, 2, 3], 100)\n",
    "\n",
    "#vibo: декоратор skipif (позволяет пропустить тест, darwin - MacOS)\n",
    "@pytest.mark.skipif(sys.platform == 'linux', reason='don\\'t know why, but may fail on linux')\n",
    "def test_not_to_run_on_linux(filld_file):\n",
    "    assert kth_stat(json.load(filled_file), 500) == 499"
   ]
  },
  {
   "cell_type": "code",
   "execution_count": 44,
   "metadata": {},
   "outputs": [
    {
     "name": "stdout",
     "output_type": "stream",
     "text": [
      "\u001b[1m============================= test session starts ==============================\u001b[0m\n",
      "platform linux -- Python 3.9.9, pytest-7.1.2, pluggy-1.0.0\n",
      "rootdir: /home/vibo/vs_code\n",
      "plugins: hypothesis-6.54.1, Faker-13.15.1, metadata-2.0.2, allure-pytest-2.9.45, json-report-1.5.0\n",
      "collected 2 items                                                              \u001b[0m\n",
      "\n",
      "<Module main3_pytest1.py>\n",
      "  <Function test_raises>\n",
      "  <Function test_not_to_run_on_linux>\n",
      "\n",
      "\u001b[32m========================== \u001b[32m2 tests collected\u001b[0m\u001b[32m in 0.01s\u001b[0m\u001b[32m ==========================\u001b[0m\n"
     ]
    }
   ],
   "source": [
    "!pytest main3_pytest1.py --collect-only"
   ]
  },
  {
   "cell_type": "code",
   "execution_count": 46,
   "metadata": {},
   "outputs": [
    {
     "name": "stdout",
     "output_type": "stream",
     "text": [
      "\u001b[1m============================= test session starts ==============================\u001b[0m\n",
      "platform linux -- Python 3.9.9, pytest-7.1.2, pluggy-1.0.0 -- /home/vibo/vs_code/venv-vsc/bin/python\n",
      "cachedir: .pytest_cache\n",
      "hypothesis profile 'default' -> database=DirectoryBasedExampleDatabase('/home/vibo/vs_code/.hypothesis/examples')\n",
      "metadata: {'Python': '3.9.9', 'Platform': 'Linux-5.15.59-1-MANJARO-x86_64-with-glibc2.33', 'Packages': {'pytest': '7.1.2', 'py': '1.11.0', 'pluggy': '1.0.0'}, 'Plugins': {'hypothesis': '6.54.1', 'Faker': '13.15.1', 'metadata': '2.0.2', 'allure-pytest': '2.9.45', 'json-report': '1.5.0'}}\n",
      "rootdir: /home/vibo/vs_code\n",
      "plugins: hypothesis-6.54.1, Faker-13.15.1, metadata-2.0.2, allure-pytest-2.9.45, json-report-1.5.0\n",
      "collected 2 items                                                              \u001b[0m\n",
      "\n",
      "main3_pytest1.py::test_raises \u001b[33mXFAIL\u001b[0m\u001b[32m                                      [ 50%]\u001b[0m\n",
      "main3_pytest1.py::test_not_to_run_on_linux \u001b[33mSKIPPED\u001b[0m (don't know why, ...)\u001b[33m [100%]\u001b[0m\n",
      "\n",
      "\u001b[33m======================== \u001b[33m\u001b[1m1 skipped\u001b[0m, \u001b[33m\u001b[1m1 xfailed\u001b[0m\u001b[33m in 0.24s\u001b[0m\u001b[33m =========================\u001b[0m\n"
     ]
    }
   ],
   "source": [
    "!pytest main3_pytest1.py -v"
   ]
  },
  {
   "cell_type": "markdown",
   "metadata": {},
   "source": [
    "pytest: полезные опции\n",
    "\n",
    "--collect-only - вывод списка найденных тестов\n",
    "-k - фильтрация по имени теста\n",
    "-s - включает вывод stdout & stderr тестов (по умолчанию выводятся только для упавших тестов)\n",
    "-v - повышает детализацию процесса запуска тестов\n",
    "--lf, --lasted-failed - перезапускает тесты, упавшие при последнем запуске\n",
    "--sw, --stepwise - выходит при падении и при последующих запусках продолжает с последнего упавшего теста"
   ]
  },
  {
   "cell_type": "markdown",
   "metadata": {},
   "source": [
    "##### **-- Fixtures (фикстуры)** \n",
    "(когда нужно подготовить данные, фикстура - функция, помеченная специальным декоратором fixture, которую мы можем передать в функцию в качестве параметра)"
   ]
  },
  {
   "cell_type": "code",
   "execution_count": 17,
   "metadata": {},
   "outputs": [],
   "source": [
    "import pytest\n",
    "import tempfile\n",
    "import json\n",
    "import random\n",
    "\n",
    "\n",
    "def kth_stat(lst, n):\n",
    "    #vibo: сортируем список, берем значение по n-ому индексу\n",
    "    return sorted(lst)[n]\n",
    "\n",
    "#vibo: готовим данные, декоратор fixture\n",
    "@pytest.fixture\n",
    "def filled_file():\n",
    "    #vibo: открываем временный файл\n",
    "    with tempfile.TemporaryFile(mode='w+') as f:\n",
    "        #vibo: создаем список\n",
    "        li = list(range(10000))\n",
    "        #vibo: перемешиваем список\n",
    "        random.shuffle(li)\n",
    "        #vibo: записываем во временный файл\n",
    "        json.dump(li, f)\n",
    "        #vibo: ставим указатель в начало\n",
    "        f.seek(0)\n",
    "        #vibo: параметр f передается в качестве парамтра в тестируемую функцию\n",
    "        yield f\n",
    "\n",
    "#vibo: передаем подготовленные данные (фикстуру filled_file) в тестируемую функцию\n",
    "#vibo: если мы подключили фикстуру к тесту, то сначала выолнитеся фикстура\n",
    "def test_on_large_seq_from_file(filled_file):\n",
    "    #vibo: ломаем\n",
    "    assert kth_stat(json.load(filled_file), 300) == 299\n",
    "    #vibo: чиним\n",
    "    #assert kth_stat(json.load(filled_file), 300) == 300"
   ]
  },
  {
   "cell_type": "code",
   "execution_count": 52,
   "metadata": {},
   "outputs": [
    {
     "name": "stdout",
     "output_type": "stream",
     "text": [
      "\u001b[1m============================= test session starts ==============================\u001b[0m\n",
      "platform linux -- Python 3.9.9, pytest-7.1.2, pluggy-1.0.0\n",
      "rootdir: /home/vibo/vs_code\n",
      "plugins: hypothesis-6.54.1, Faker-13.15.1, metadata-2.0.2, allure-pytest-2.9.45, json-report-1.5.0\n",
      "collected 1 item                                                               \u001b[0m\n",
      "\n",
      "main3_pytest2.py \u001b[31mF\u001b[0m\u001b[31m                                                       [100%]\u001b[0m\n",
      "\n",
      "=================================== FAILURES ===================================\n",
      "\u001b[31m\u001b[1m_________________________ test_on_large_seq_from_file __________________________\u001b[0m\n",
      "\n",
      "filled_file = <_io.TextIOWrapper name=11 mode='w+' encoding='UTF-8'>\n",
      "\n",
      "    \u001b[94mdef\u001b[39;49;00m \u001b[92mtest_on_large_seq_from_file\u001b[39;49;00m(filled_file):\n",
      ">       \u001b[94massert\u001b[39;49;00m kth_stat(json.load(filled_file), \u001b[94m300\u001b[39;49;00m) == \u001b[94m299\u001b[39;49;00m\n",
      "\u001b[1m\u001b[31mE       AssertionError: assert 300 == 299\u001b[0m\n",
      "\u001b[1m\u001b[31mE        +  where 300 = kth_stat([7932, 4913, 2572, 6658, 8403, 5720, ...], 300)\u001b[0m\n",
      "\u001b[1m\u001b[31mE        +    where [7932, 4913, 2572, 6658, 8403, 5720, ...] = <function load at 0x7f17117a6160>(<_io.TextIOWrapper name=11 mode='w+' encoding='UTF-8'>)\u001b[0m\n",
      "\u001b[1m\u001b[31mE        +      where <function load at 0x7f17117a6160> = json.load\u001b[0m\n",
      "\n",
      "\u001b[1m\u001b[31mmain3_pytest2.py\u001b[0m:20: AssertionError\n",
      "=========================== short test summary info ============================\n",
      "FAILED main3_pytest2.py::test_on_large_seq_from_file - AssertionError: assert...\n",
      "\u001b[31m============================== \u001b[31m\u001b[1m1 failed\u001b[0m\u001b[31m in 0.15s\u001b[0m\u001b[31m ===============================\u001b[0m\n"
     ]
    }
   ],
   "source": [
    "!pytest main3_pytest2.py"
   ]
  },
  {
   "cell_type": "code",
   "execution_count": 53,
   "metadata": {},
   "outputs": [
    {
     "name": "stdout",
     "output_type": "stream",
     "text": [
      "\u001b[1m============================= test session starts ==============================\u001b[0m\n",
      "platform linux -- Python 3.9.9, pytest-7.1.2, pluggy-1.0.0\n",
      "rootdir: /home/vibo/vs_code\n",
      "plugins: hypothesis-6.54.1, Faker-13.15.1, metadata-2.0.2, allure-pytest-2.9.45, json-report-1.5.0\n",
      "collected 1 item                                                               \u001b[0m\n",
      "\n",
      "main3_pytest2.py \u001b[32m.\u001b[0m\u001b[32m                                                       [100%]\u001b[0m\n",
      "\n",
      "\u001b[32m============================== \u001b[32m\u001b[1m1 passed\u001b[0m\u001b[32m in 0.07s\u001b[0m\u001b[32m ===============================\u001b[0m\n"
     ]
    }
   ],
   "source": [
    "!pytest main3_pytest2.py"
   ]
  },
  {
   "cell_type": "markdown",
   "metadata": {},
   "source": [
    "##### **--- Фикстуры разного уровня**\n",
    "- scope='module' -  фикстура вызывется один раз на модуль, т.е. если в модуле несколько тестов она будет вызываться один раз;\n",
    "- () - фикстура без параметров вызывается каждый раз, когда она используется;\n",
    "- autouse=True - вызывается даже тогда, когда в явном виде ее не подключаем"
   ]
  },
  {
   "cell_type": "code",
   "execution_count": 55,
   "metadata": {},
   "outputs": [],
   "source": [
    "#vibo: фикстура вызывется один раз на модуль, т.е. если в модуле несколько тестов она будет вызываться один раз\n",
    "@pytest.fixture(scope='module')\n",
    "def call_me_once_use_when_needed():\n",
    "    print('\\ncall me once use when needed')\n",
    "\n",
    "#vibo: фикстура без параметров вызывается каждый раз, когда она используется\n",
    "@pytest.fixture()\n",
    "def call_me_every_time():\n",
    "    print('call me every time')\n",
    "\n",
    "#vibo: вызывается даже тогда, когда в явном виде ее не подключаем\n",
    "@pytest.fixture(autouse=True)\n",
    "def call_me_everywhere():\n",
    "    print('YOU\\'LL CALL ME EVEN IF YOU DON\\'T WANNA TO')\n",
    "\n",
    "def test_one(call_me_once_use_when_needed, call_me_every_time):\n",
    "    print('test one')\n",
    "\n",
    "def test_two(call_me_once_use_when_needed, call_me_every_time):\n",
    "    print('test two')"
   ]
  },
  {
   "cell_type": "code",
   "execution_count": 54,
   "metadata": {},
   "outputs": [
    {
     "name": "stdout",
     "output_type": "stream",
     "text": [
      "\u001b[1m============================= test session starts ==============================\u001b[0m\n",
      "platform linux -- Python 3.9.9, pytest-7.1.2, pluggy-1.0.0\n",
      "rootdir: /home/vibo/vs_code\n",
      "plugins: hypothesis-6.54.1, Faker-13.15.1, metadata-2.0.2, allure-pytest-2.9.45, json-report-1.5.0\n",
      "collected 2 items                                                              \u001b[0m\n",
      "\n",
      "main3_pytest3.py \n",
      "call me once use when needed\n",
      "YOU'LL CALL ME EVEN IF YOU DON'T WANNA TO\n",
      "call me every time\n",
      "test one\n",
      "\u001b[32m.\u001b[0mYOU'LL CALL ME EVEN IF YOU DON'T WANNA TO\n",
      "call me every time\n",
      "test two\n",
      "\u001b[32m.\u001b[0m\n",
      "\n",
      "\u001b[32m============================== \u001b[32m\u001b[1m2 passed\u001b[0m\u001b[32m in 0.05s\u001b[0m\u001b[32m ===============================\u001b[0m\n"
     ]
    }
   ],
   "source": [
    "!pytest main3_pytest3.py -s"
   ]
  },
  {
   "cell_type": "markdown",
   "metadata": {},
   "source": [
    "##### **--- Фикстуры можно 'наследовать'** \n",
    "(передавать внутрь другой фикстуры)"
   ]
  },
  {
   "cell_type": "code",
   "execution_count": 61,
   "metadata": {},
   "outputs": [],
   "source": [
    "@pytest.fixture\n",
    "def init_db():\n",
    "    print('\\ninit_db')\n",
    "\n",
    "@pytest.fixture\n",
    "def run_migrations(init_db):\n",
    "    print('run_migrations')\n",
    "\n",
    "@pytest.fixture\n",
    "def superuser(run_migrations):\n",
    "    print('create superuser')\n",
    "\n",
    "def test_one(superuser):\n",
    "    print('test one')\n",
    "\n",
    "def test_two(run_migrations):\n",
    "    print('test two')"
   ]
  },
  {
   "cell_type": "code",
   "execution_count": 62,
   "metadata": {},
   "outputs": [
    {
     "name": "stdout",
     "output_type": "stream",
     "text": [
      "\u001b[1m============================= test session starts ==============================\u001b[0m\n",
      "platform linux -- Python 3.9.9, pytest-7.1.2, pluggy-1.0.0\n",
      "rootdir: /home/vibo/vs_code\n",
      "plugins: hypothesis-6.54.1, Faker-13.15.1, metadata-2.0.2, allure-pytest-2.9.45, json-report-1.5.0\n",
      "collected 2 items                                                              \u001b[0m\n",
      "\n",
      "main3_pytest4.py \n",
      "init_db\n",
      "run_migrations\n",
      "create superuser\n",
      "test one\n",
      "\u001b[32m.\u001b[0m\n",
      "init_db\n",
      "run_migrations\n",
      "test two\n",
      "\u001b[32m.\u001b[0m\n",
      "\n",
      "\u001b[32m============================== \u001b[32m\u001b[1m2 passed\u001b[0m\u001b[32m in 0.04s\u001b[0m\u001b[32m ===============================\u001b[0m\n"
     ]
    }
   ],
   "source": [
    "!pytest main3_pytest4.py -s"
   ]
  },
  {
   "cell_type": "markdown",
   "metadata": {},
   "source": [
    "##### **-- conftest.py**\n",
    "(фикстуры из этого файла становятся доступны из всех файлов; если не понятно откуда взялись фикстуры - смотри файл conftest.py)"
   ]
  },
  {
   "cell_type": "markdown",
   "metadata": {},
   "source": [
    "##### **-- pytest: плагины**\n",
    "\n",
    "- flake8 (проверка синтаксиса);\n",
    "- coverage (покрытие кода тестами, делает красивый html-отчет);\n",
    "- pytest-sugar (более красивый вывод);\n",
    "- django (декоратор, поднимающий окружение django, для flask тоже есть свой плагин);\n",
    "- xdist (для параллельного запуска на нескольких cpu; главное, чтобы тесты друг другу не мешали);\n",
    "- timeout (таймаут для теста)."
   ]
  },
  {
   "cell_type": "markdown",
   "metadata": {},
   "source": [
    "pytest можно настраивать, в файле .ini"
   ]
  },
  {
   "cell_type": "code",
   "execution_count": 2,
   "metadata": {},
   "outputs": [
    {
     "name": "stdout",
     "output_type": "stream",
     "text": [
      "Requirement already satisfied: pytest-cov in ./venv-vsc/lib/python3.9/site-packages (3.0.0)\n",
      "Requirement already satisfied: coverage[toml]>=5.2.1 in ./venv-vsc/lib/python3.9/site-packages (from pytest-cov) (6.4.3)\n",
      "Requirement already satisfied: pytest>=4.6 in ./venv-vsc/lib/python3.9/site-packages (from pytest-cov) (7.1.2)\n",
      "Requirement already satisfied: tomli in ./venv-vsc/lib/python3.9/site-packages (from coverage[toml]>=5.2.1->pytest-cov) (2.0.1)\n",
      "Requirement already satisfied: pluggy<2.0,>=0.12 in ./venv-vsc/lib/python3.9/site-packages (from pytest>=4.6->pytest-cov) (1.0.0)\n",
      "Requirement already satisfied: attrs>=19.2.0 in ./venv-vsc/lib/python3.9/site-packages (from pytest>=4.6->pytest-cov) (22.1.0)\n",
      "Requirement already satisfied: packaging in ./venv-vsc/lib/python3.9/site-packages (from pytest>=4.6->pytest-cov) (21.3)\n",
      "Requirement already satisfied: iniconfig in ./venv-vsc/lib/python3.9/site-packages (from pytest>=4.6->pytest-cov) (1.1.1)\n",
      "Requirement already satisfied: py>=1.8.2 in ./venv-vsc/lib/python3.9/site-packages (from pytest>=4.6->pytest-cov) (1.11.0)\n",
      "Requirement already satisfied: pyparsing!=3.0.5,>=2.0.2 in ./venv-vsc/lib/python3.9/site-packages (from packaging->pytest>=4.6->pytest-cov) (3.0.9)\n"
     ]
    }
   ],
   "source": [
    "#vibo: coverage\n",
    "!pip install pytest-cov"
   ]
  },
  {
   "cell_type": "code",
   "execution_count": null,
   "metadata": {},
   "outputs": [],
   "source": [
    "!ls"
   ]
  },
  {
   "cell_type": "code",
   "execution_count": null,
   "metadata": {},
   "outputs": [],
   "source": [
    "#vibo: выводом на экран\n",
    "!pytest --cov=src"
   ]
  },
  {
   "cell_type": "code",
   "execution_count": null,
   "metadata": {},
   "outputs": [],
   "source": [
    "#vibo: с выводом в html формат\n",
    "!pytest --cov=src --cov-report=html"
   ]
  },
  {
   "cell_type": "markdown",
   "metadata": {},
   "source": [
    "##### **-- Параметризация (декоратор parametrize)**"
   ]
  },
  {
   "cell_type": "code",
   "execution_count": 8,
   "metadata": {},
   "outputs": [],
   "source": [
    "#vibo: если хотим не просто запустить тест, а с разными параметрами\n",
    "import pytest\n",
    "\n",
    "\n",
    "def kth_stat(lst, n):\n",
    "    return sorted(lst)[n]\n",
    "\n",
    "#vibo: несколько параметров для тестирования\n",
    "@pytest.mark.parametrize(\n",
    "    ('values', 'stat_order', 'expected'), [\n",
    "        ([1], 0, 1),\n",
    "        ([1, 1, 1, 1, 1], 4, 1),\n",
    "        (range(100), 4, 3)\n",
    "    ]\n",
    ")\n",
    "def test_on_range(values, stat_order, expected):\n",
    "    assert kth_stat(values, stat_order) == expected"
   ]
  },
  {
   "cell_type": "code",
   "execution_count": 10,
   "metadata": {},
   "outputs": [
    {
     "name": "stdout",
     "output_type": "stream",
     "text": [
      "\u001b[1m============================= test session starts ==============================\u001b[0m\n",
      "platform linux -- Python 3.9.9, pytest-7.1.2, pluggy-1.0.0 -- /home/vibo/vs_code/venv-vsc/bin/python\n",
      "cachedir: .pytest_cache\n",
      "hypothesis profile 'default' -> database=DirectoryBasedExampleDatabase('/home/vibo/vs_code/.hypothesis/examples')\n",
      "metadata: {'Python': '3.9.9', 'Platform': 'Linux-5.15.59-1-MANJARO-x86_64-with-glibc2.33', 'Packages': {'pytest': '7.1.2', 'py': '1.11.0', 'pluggy': '1.0.0'}, 'Plugins': {'hypothesis': '6.54.1', 'Faker': '13.15.1', 'metadata': '2.0.2', 'allure-pytest': '2.9.45', 'json-report': '1.5.0', 'cov': '3.0.0'}}\n",
      "rootdir: /home/vibo/vs_code\n",
      "plugins: hypothesis-6.54.1, Faker-13.15.1, metadata-2.0.2, allure-pytest-2.9.45, json-report-1.5.0, cov-3.0.0\n",
      "collected 3 items                                                              \u001b[0m\n",
      "\n",
      "main3_pytest5.py::test_on_range[values0-0-1] \u001b[32mPASSED\u001b[0m\u001b[32m                      [ 33%]\u001b[0m\n",
      "main3_pytest5.py::test_on_range[values1-4-1] \u001b[32mPASSED\u001b[0m\u001b[32m                      [ 66%]\u001b[0m\n",
      "main3_pytest5.py::test_on_range[values2-4-3] \u001b[31mFAILED\u001b[0m\u001b[31m                      [100%]\u001b[0m\n",
      "\n",
      "=================================== FAILURES ===================================\n",
      "\u001b[31m\u001b[1m__________________________ test_on_range[values2-4-3] __________________________\u001b[0m\n",
      "\n",
      "values = range(0, 100), stat_order = 4, expected = 3\n",
      "\n",
      "    \u001b[37m@pytest\u001b[39;49;00m.mark.parametrize(\n",
      "        (\u001b[33m'\u001b[39;49;00m\u001b[33mvalues\u001b[39;49;00m\u001b[33m'\u001b[39;49;00m, \u001b[33m'\u001b[39;49;00m\u001b[33mstat_order\u001b[39;49;00m\u001b[33m'\u001b[39;49;00m, \u001b[33m'\u001b[39;49;00m\u001b[33mexpected\u001b[39;49;00m\u001b[33m'\u001b[39;49;00m), [\n",
      "            ([\u001b[94m1\u001b[39;49;00m], \u001b[94m0\u001b[39;49;00m, \u001b[94m1\u001b[39;49;00m),\n",
      "            ([\u001b[94m1\u001b[39;49;00m, \u001b[94m1\u001b[39;49;00m, \u001b[94m1\u001b[39;49;00m, \u001b[94m1\u001b[39;49;00m, \u001b[94m1\u001b[39;49;00m], \u001b[94m4\u001b[39;49;00m, \u001b[94m1\u001b[39;49;00m),\n",
      "            (\u001b[96mrange\u001b[39;49;00m(\u001b[94m100\u001b[39;49;00m), \u001b[94m4\u001b[39;49;00m, \u001b[94m3\u001b[39;49;00m)\n",
      "        ]\n",
      "    )\n",
      "    \u001b[94mdef\u001b[39;49;00m \u001b[92mtest_on_range\u001b[39;49;00m(values, stat_order, expected):\n",
      ">       \u001b[94massert\u001b[39;49;00m kth_stat(values, stat_order) == expected\n",
      "\u001b[1m\u001b[31mE       assert 4 == 3\u001b[0m\n",
      "\u001b[1m\u001b[31mE        +  where 4 = kth_stat(range(0, 100), 4)\u001b[0m\n",
      "\n",
      "\u001b[1m\u001b[31mmain3_pytest5.py\u001b[0m:14: AssertionError\n",
      "=========================== short test summary info ============================\n",
      "FAILED main3_pytest5.py::test_on_range[values2-4-3] - assert 4 == 3\n",
      "\u001b[31m========================= \u001b[31m\u001b[1m1 failed\u001b[0m, \u001b[32m2 passed\u001b[0m\u001b[31m in 0.32s\u001b[0m\u001b[31m ==========================\u001b[0m\n"
     ]
    }
   ],
   "source": [
    "!pytest main3_pytest5.py -v"
   ]
  },
  {
   "cell_type": "markdown",
   "metadata": {},
   "source": [
    "##### **-- hypothesis (параметризация для \"ленивых\")**"
   ]
  },
  {
   "cell_type": "code",
   "execution_count": 11,
   "metadata": {},
   "outputs": [
    {
     "name": "stdout",
     "output_type": "stream",
     "text": [
      "Requirement already satisfied: hypothesis in ./venv-vsc/lib/python3.9/site-packages (6.54.1)\n",
      "Requirement already satisfied: sortedcontainers<3.0.0,>=2.1.0 in ./venv-vsc/lib/python3.9/site-packages (from hypothesis) (2.4.0)\n",
      "Requirement already satisfied: exceptiongroup>=1.0.0rc8 in ./venv-vsc/lib/python3.9/site-packages (from hypothesis) (1.0.0rc8)\n",
      "Requirement already satisfied: attrs>=19.2.0 in ./venv-vsc/lib/python3.9/site-packages (from hypothesis) (22.1.0)\n",
      "Note: you may need to restart the kernel to use updated packages.\n"
     ]
    }
   ],
   "source": [
    "%pip install hypothesis"
   ]
  },
  {
   "cell_type": "code",
   "execution_count": 19,
   "metadata": {},
   "outputs": [],
   "source": [
    "from hypothesis import given\n",
    "from hypothesis.strategies import lists, integers\n",
    "\n",
    "def broken_sort(it):\n",
    "    #vibo: вставляем баг (не сортировать при длине списка 5)\n",
    "    if len(it) == 5:\n",
    "        return it\n",
    "    return sorted(it)\n",
    "\n",
    "#vibo: декоратор given генерирует набор\n",
    "@given(lists(integers()))\n",
    "def test_sort(it):\n",
    "    assert broken_sort(it) == sorted(it)"
   ]
  },
  {
   "cell_type": "code",
   "execution_count": 20,
   "metadata": {},
   "outputs": [
    {
     "name": "stdout",
     "output_type": "stream",
     "text": [
      "\u001b[1m============================= test session starts ==============================\u001b[0m\n",
      "platform linux -- Python 3.9.9, pytest-7.1.2, pluggy-1.0.0 -- /home/vibo/vs_code/venv-vsc/bin/python\n",
      "cachedir: .pytest_cache\n",
      "hypothesis profile 'default' -> database=DirectoryBasedExampleDatabase('/home/vibo/vs_code/.hypothesis/examples')\n",
      "metadata: {'Python': '3.9.9', 'Platform': 'Linux-5.15.59-1-MANJARO-x86_64-with-glibc2.33', 'Packages': {'pytest': '7.1.2', 'py': '1.11.0', 'pluggy': '1.0.0'}, 'Plugins': {'hypothesis': '6.54.1', 'Faker': '13.15.1', 'metadata': '2.0.2', 'allure-pytest': '2.9.45', 'json-report': '1.5.0', 'cov': '3.0.0'}}\n",
      "rootdir: /home/vibo/vs_code\n",
      "plugins: hypothesis-6.54.1, Faker-13.15.1, metadata-2.0.2, allure-pytest-2.9.45, json-report-1.5.0, cov-3.0.0\n",
      "collected 1 item                                                               \u001b[0m\n",
      "\n",
      "main4_hypothesis.py::test_sort \u001b[31mFAILED\u001b[0m\u001b[31m                                    [100%]\u001b[0m\n",
      "\n",
      "=================================== FAILURES ===================================\n",
      "\u001b[31m\u001b[1m__________________________________ test_sort ___________________________________\u001b[0m\n",
      "\n",
      "    \u001b[37m@given\u001b[39;49;00m(lists(integers()))\n",
      ">   \u001b[94mdef\u001b[39;49;00m \u001b[92mtest_sort\u001b[39;49;00m(it):\n",
      "\n",
      "\u001b[1m\u001b[31mmain4_hypothesis.py\u001b[0m:10: \n",
      "_ _ _ _ _ _ _ _ _ _ _ _ _ _ _ _ _ _ _ _ _ _ _ _ _ _ _ _ _ _ _ _ _ _ _ _ _ _ _ _ \n",
      "\n",
      "it = [0, 0, 0, 1, 0]\n",
      "\n",
      "    \u001b[37m@given\u001b[39;49;00m(lists(integers()))\n",
      "    \u001b[94mdef\u001b[39;49;00m \u001b[92mtest_sort\u001b[39;49;00m(it):\n",
      ">       \u001b[94massert\u001b[39;49;00m broken_sort(it) == \u001b[96msorted\u001b[39;49;00m(it)\n",
      "\u001b[1m\u001b[31mE       assert [0, 0, 0, 1, 0] == [0, 0, 0, 0, 1]\u001b[0m\n",
      "\u001b[1m\u001b[31mE         At index 3 diff: 1 != 0\u001b[0m\n",
      "\u001b[1m\u001b[31mE         Full diff:\u001b[0m\n",
      "\u001b[1m\u001b[31mE         - [0, 0, 0, 0, 1]\u001b[0m\n",
      "\u001b[1m\u001b[31mE         ?            ---\u001b[0m\n",
      "\u001b[1m\u001b[31mE         + [0, 0, 0, 1, 0]\u001b[0m\n",
      "\u001b[1m\u001b[31mE         ?           +++\u001b[0m\n",
      "\u001b[1m\u001b[31mE       Falsifying example: test_sort(\u001b[0m\n",
      "\u001b[1m\u001b[31mE           it=[0, 0, 0, 1, 0],\u001b[0m\n",
      "\u001b[1m\u001b[31mE       )\u001b[0m\n",
      "\n",
      "\u001b[1m\u001b[31mmain4_hypothesis.py\u001b[0m:11: AssertionError\n",
      "=========================== short test summary info ============================\n",
      "FAILED main4_hypothesis.py::test_sort - assert [0, 0, 0, 1, 0] == [0, 0, 0, 0...\n",
      "\u001b[31m============================== \u001b[31m\u001b[1m1 failed\u001b[0m\u001b[31m in 0.43s\u001b[0m\u001b[31m ===============================\u001b[0m\n"
     ]
    }
   ],
   "source": [
    "!pytest main4_hypothesis.py -v"
   ]
  },
  {
   "cell_type": "markdown",
   "metadata": {},
   "source": [
    "#### **=== Integration ===**\n",
    "Интеграционные тесты. Проверяется работа/взаимодействие нескольких систем. Тестирование группы взаимодействующих модулей/программ."
   ]
  },
  {
   "cell_type": "markdown",
   "metadata": {},
   "source": [
    "##### **-- unittest.mock (подменяет внешние объекты или функции)**"
   ]
  },
  {
   "cell_type": "markdown",
   "metadata": {},
   "source": [
    "для вызова mok используем библиотеку unittest (аналог mok есть и у библиотеки pytest, которую смотрели выше)"
   ]
  },
  {
   "cell_type": "code",
   "execution_count": 40,
   "metadata": {},
   "outputs": [],
   "source": [
    "from unittest.mock import Mock\n",
    "\n",
    "#vibo: создаем объект Mock()\n",
    "m = Mock()"
   ]
  },
  {
   "cell_type": "code",
   "execution_count": 44,
   "metadata": {},
   "outputs": [
    {
     "data": {
      "text/plain": [
       "<Mock name='mock()' id='140163388131696'>"
      ]
     },
     "execution_count": 44,
     "metadata": {},
     "output_type": "execute_result"
    }
   ],
   "source": [
    "#vibo: вызываем объект Mock(), никакой ошибки нет\n",
    "m()"
   ]
  },
  {
   "cell_type": "code",
   "execution_count": 46,
   "metadata": {},
   "outputs": [
    {
     "data": {
      "text/plain": [
       "<Mock name='mock.f()' id='140163388132416'>"
      ]
     },
     "execution_count": 46,
     "metadata": {},
     "output_type": "execute_result"
    }
   ],
   "source": [
    "#vibo: можем вызвать метод у этого объекта\n",
    "m.f()"
   ]
  },
  {
   "cell_type": "code",
   "execution_count": 47,
   "metadata": {},
   "outputs": [
    {
     "data": {
      "text/plain": [
       "<Mock name='mock.is_alive' id='140163385804352'>"
      ]
     },
     "execution_count": 47,
     "metadata": {},
     "output_type": "execute_result"
    }
   ],
   "source": [
    "#vibo: можем вызвать параметр у этого объекта\n",
    "m.is_alive"
   ]
  },
  {
   "cell_type": "markdown",
   "metadata": {},
   "source": [
    "Итого можем подменить внешний сервис и имитировать его поведение. Но и можем проверить, что наш код туда попытался сходить."
   ]
  },
  {
   "cell_type": "code",
   "execution_count": 48,
   "metadata": {},
   "outputs": [
    {
     "data": {
      "text/plain": [
       "4"
      ]
     },
     "execution_count": 48,
     "metadata": {},
     "output_type": "execute_result"
    }
   ],
   "source": [
    "#vibo: с помощью метода call_count проверяем сколько раз вызывался объект m\n",
    "m.call_count"
   ]
  },
  {
   "cell_type": "code",
   "execution_count": 49,
   "metadata": {},
   "outputs": [
    {
     "data": {
      "text/plain": [
       "2"
      ]
     },
     "execution_count": 49,
     "metadata": {},
     "output_type": "execute_result"
    }
   ],
   "source": [
    "#vibo: с помощью метода call_count проверяем сколько раз вызывался метод f объекта m \n",
    "m.f.call_count"
   ]
  },
  {
   "cell_type": "code",
   "execution_count": 50,
   "metadata": {},
   "outputs": [],
   "source": [
    "#vibo: есть класс, который ходит во внешний сервис; этот класс нужно протестировать\n",
    "from unittest.mock import Mock\n",
    "class AliveChecker:\n",
    "    #vibo: подаем в конструктор http-сессию и target - dns-сессию куда нужно сходить\n",
    "    def __init__(self, http_session, target):\n",
    "        self.http_session = http_session\n",
    "        self.target = target\n",
    "    \n",
    "    #vibo: метод класса \n",
    "    def do_check(self):\n",
    "        try:\n",
    "            resp = self.http_session.get(\n",
    "                f'https://{self.target}/ping')\n",
    "        except Exception:\n",
    "            return False\n",
    "        else:\n",
    "            #vibo: если все хорошо\n",
    "            return resp == 200"
   ]
  },
  {
   "cell_type": "markdown",
   "metadata": {},
   "source": [
    "Как мы можем протестировать класс AliveChecker, который ходит во внешний сервис. Решаем спомощью mock."
   ]
  },
  {
   "cell_type": "code",
   "execution_count": 61,
   "metadata": {},
   "outputs": [],
   "source": [
    "#vibo: тестируем с помощью mock (ПОЗИТИВНЫЙ СЦЕНАРИЙ)\n",
    "def test_with_mock():\n",
    "    #vibo: создаем mock на метод get, говорим, что возвращать должен 200\n",
    "    get_mock = Mock(return_value=200)\n",
    "    #vibo: также с помощью mock создаем псевдо-клиента\n",
    "    pseudo_client = Mock()\n",
    "    #vibo: говорим, что метод get у псевдо-клиента это созданный нами get_mock\n",
    "    pseudo_client.get = get_mock\n",
    "    #vibo: создаем подменный alive_checker, подаем в оригинальный AliveChecker\n",
    "    alive_checker = AliveChecker(pseudo_client, 'test.com')\n",
    "    \n",
    "    #vibo: вызываем метод do_check(), чтобы проверить работоспособность\n",
    "    assert alive_checker.do_check()\n",
    "    #vibo: вызываем assert_called_once_with, чтобы понять что мы его точно вызывали\n",
    "    pseudo_client.get.assert_called_once_with('https://test.com/ping')"
   ]
  },
  {
   "cell_type": "code",
   "execution_count": 62,
   "metadata": {},
   "outputs": [],
   "source": [
    "#vibo: тестируем с помощью mock (НЕГАТИВНЫЙ СЦЕНАРИЙ)\n",
    "def test_with_raising_mock():\n",
    "    get_mock = Mock(side_effect=Exception('EEEEE'))\n",
    "    pseudo_client = Mock()\n",
    "    pseudo_client.get = get_mock\n",
    "    alive_checker = AliveChecker(pseudo_client, 'test.com')\n",
    "    assert not alive_checker.do_check()\n",
    "    pseudo_client.get.assert_called_once_with('https://test.com/ping')"
   ]
  },
  {
   "cell_type": "code",
   "execution_count": 70,
   "metadata": {},
   "outputs": [
    {
     "name": "stdout",
     "output_type": "stream",
     "text": [
      "\u001b[1m============================= test session starts ==============================\u001b[0m\n",
      "platform linux -- Python 3.9.9, pytest-7.1.2, pluggy-1.0.0 -- /home/vibo/vs_code/venv-vsc/bin/python\n",
      "cachedir: .pytest_cache\n",
      "hypothesis profile 'default' -> database=DirectoryBasedExampleDatabase('/home/vibo/vs_code/.hypothesis/examples')\n",
      "metadata: {'Python': '3.9.9', 'Platform': 'Linux-5.15.59-1-MANJARO-x86_64-with-glibc2.33', 'Packages': {'pytest': '7.1.2', 'py': '1.11.0', 'pluggy': '1.0.0'}, 'Plugins': {'hypothesis': '6.54.1', 'Faker': '13.15.1', 'metadata': '2.0.2', 'allure-pytest': '2.9.45', 'json-report': '1.5.0', 'cov': '3.0.0'}}\n",
      "rootdir: /home/vibo/vs_code\n",
      "plugins: hypothesis-6.54.1, Faker-13.15.1, metadata-2.0.2, allure-pytest-2.9.45, json-report-1.5.0, cov-3.0.0\n",
      "collected 1 item                                                               \u001b[0m\n",
      "\n",
      "main5_unittest_mock1.py::test_with_raising_mock \u001b[32mPASSED\u001b[0m\n",
      "\n",
      "\u001b[32m============================== \u001b[32m\u001b[1m1 passed\u001b[0m\u001b[32m in 0.20s\u001b[0m\u001b[32m ===============================\u001b[0m\n"
     ]
    }
   ],
   "source": [
    "!pytest main5_unittest_mock1.py -v -s"
   ]
  },
  {
   "cell_type": "markdown",
   "metadata": {},
   "source": [
    "##### **-- mock: патчим методы**"
   ]
  },
  {
   "cell_type": "code",
   "execution_count": 76,
   "metadata": {},
   "outputs": [],
   "source": [
    "def test_classroom_post_save(self):\n",
    "    #vibo: прописываем весь путь до метода и делаем его объектом mock\n",
    "    with patch('calendars.recievers.create_layer.delay') as mock:\n",
    "        ClassroomFactory()\n",
    "        #vibo: проверяем (замокали объект); метод реально вызыватьсz не будет, а будет подставляться mock\n",
    "        #vibo: вызываем фабрику и проверяем, что метод mock не вызывался\n",
    "        mock.assert_not_called()\n",
    "\n",
    "        #vibo: создаем календарь, и что он вызывался\n",
    "        classroom = ClassroomFactory(calendar_enabled=True)\n",
    "        mock.assert_called_once_with(course_id=classroom.course_id)\n",
    "\n",
    "        #vibo: сохранение тоже можно проверить\n",
    "        classroom.save()\n",
    "        mock.assert_called_once_with(course_id=classroom.course_id)"
   ]
  },
  {
   "cell_type": "code",
   "execution_count": 85,
   "metadata": {},
   "outputs": [
    {
     "name": "stdout",
     "output_type": "stream",
     "text": [
      "\u001b[1m============================= test session starts ==============================\u001b[0m\n",
      "platform linux -- Python 3.9.9, pytest-7.1.2, pluggy-1.0.0\n",
      "rootdir: /home/vibo/vs_code\n",
      "plugins: hypothesis-6.54.1, Faker-13.15.1, metadata-2.0.2, allure-pytest-2.9.45, json-report-1.5.0, cov-3.0.0\n",
      "collected 1 item                                                               \u001b[0m\n",
      "\n",
      "main5_unittest_mock2.py \u001b[31mF\u001b[0m\n",
      "\n",
      "=================================== FAILURES ===================================\n",
      "\u001b[31m\u001b[1m___________________________ test_classroom_post_save ___________________________\u001b[0m\n",
      "\n",
      "    \u001b[94mdef\u001b[39;49;00m \u001b[92mtest_classroom_post_save\u001b[39;49;00m():\n",
      ">       \u001b[94mwith\u001b[39;49;00m patch(\u001b[33m'\u001b[39;49;00m\u001b[33mcalendars.recievers.create_layer.delay\u001b[39;49;00m\u001b[33m'\u001b[39;49;00m) \u001b[94mas\u001b[39;49;00m mock:\n",
      "\n",
      "\u001b[1m\u001b[31mmain5_unittest_mock2.py\u001b[0m:4: \n",
      "_ _ _ _ _ _ _ _ _ _ _ _ _ _ _ _ _ _ _ _ _ _ _ _ _ _ _ _ _ _ _ _ _ _ _ _ _ _ _ _ \n",
      "\u001b[1m\u001b[31m/usr/lib/python3.9/unittest/mock.py\u001b[0m:1388: in __enter__\n",
      "    \u001b[96mself\u001b[39;49;00m.target = \u001b[96mself\u001b[39;49;00m.getter()\n",
      "\u001b[1m\u001b[31m/usr/lib/python3.9/unittest/mock.py\u001b[0m:1563: in <lambda>\n",
      "    getter = \u001b[94mlambda\u001b[39;49;00m: _importer(target)\n",
      "_ _ _ _ _ _ _ _ _ _ _ _ _ _ _ _ _ _ _ _ _ _ _ _ _ _ _ _ _ _ _ _ _ _ _ _ _ _ _ _ \n",
      "\n",
      "target = 'calendars.recievers.create_layer'\n",
      "\n",
      "    \u001b[94mdef\u001b[39;49;00m \u001b[92m_importer\u001b[39;49;00m(target):\n",
      "        components = target.split(\u001b[33m'\u001b[39;49;00m\u001b[33m.\u001b[39;49;00m\u001b[33m'\u001b[39;49;00m)\n",
      "        import_path = components.pop(\u001b[94m0\u001b[39;49;00m)\n",
      ">       thing = \u001b[96m__import__\u001b[39;49;00m(import_path)\n",
      "\u001b[1m\u001b[31mE       ModuleNotFoundError: No module named 'calendars'\u001b[0m\n",
      "\n",
      "\u001b[1m\u001b[31m/usr/lib/python3.9/unittest/mock.py\u001b[0m:1235: ModuleNotFoundError\n",
      "=========================== short test summary info ============================\n",
      "FAILED main5_unittest_mock2.py::test_classroom_post_save - ModuleNotFoundErro...\n",
      "\u001b[31m============================== \u001b[31m\u001b[1m1 failed\u001b[0m\u001b[31m in 0.26s\u001b[0m\u001b[31m ===============================\u001b[0m\n"
     ]
    }
   ],
   "source": [
    "!pytest main5_unittest_mock2.py -s"
   ]
  },
  {
   "cell_type": "markdown",
   "metadata": {},
   "source": [
    "##### **-- mock: патчим библиотеки**"
   ]
  },
  {
   "cell_type": "code",
   "execution_count": 86,
   "metadata": {},
   "outputs": [],
   "source": [
    "import math\n",
    "from unittest.mock import patch\n",
    "\n",
    "def test_patch_sin():\n",
    "    with patch('math.sin', return_value=2) as m:\n",
    "        assert math.sin(0) == 2\n",
    "        assert math.sin(1) == 2\n",
    "        assert m.call_count == 2"
   ]
  },
  {
   "cell_type": "code",
   "execution_count": 91,
   "metadata": {},
   "outputs": [
    {
     "name": "stdout",
     "output_type": "stream",
     "text": [
      "\u001b[1m============================= test session starts ==============================\u001b[0m\n",
      "platform linux -- Python 3.9.9, pytest-7.1.2, pluggy-1.0.0 -- /home/vibo/vs_code/venv-vsc/bin/python\n",
      "cachedir: .pytest_cache\n",
      "hypothesis profile 'default' -> database=DirectoryBasedExampleDatabase('/home/vibo/vs_code/.hypothesis/examples')\n",
      "metadata: {'Python': '3.9.9', 'Platform': 'Linux-5.15.59-1-MANJARO-x86_64-with-glibc2.33', 'Packages': {'pytest': '7.1.2', 'py': '1.11.0', 'pluggy': '1.0.0'}, 'Plugins': {'hypothesis': '6.54.1', 'Faker': '13.15.1', 'metadata': '2.0.2', 'allure-pytest': '2.9.45', 'json-report': '1.5.0', 'cov': '3.0.0'}}\n",
      "rootdir: /home/vibo/vs_code\n",
      "plugins: hypothesis-6.54.1, Faker-13.15.1, metadata-2.0.2, allure-pytest-2.9.45, json-report-1.5.0, cov-3.0.0\n",
      "collected 1 item                                                               \u001b[0m\n",
      "\n",
      "main5_unittest_mock3.py::test_patch_sin \u001b[32mPASSED\u001b[0m\u001b[32m                           [100%]\u001b[0m\n",
      "\n",
      "\u001b[32m============================== \u001b[32m\u001b[1m1 passed\u001b[0m\u001b[32m in 0.25s\u001b[0m\u001b[32m ===============================\u001b[0m\n"
     ]
    }
   ],
   "source": [
    "!pytest main5_unittest_mock3.py -v"
   ]
  },
  {
   "cell_type": "markdown",
   "metadata": {},
   "source": [
    "##### **-- freezegun (мокаем текущее время)**"
   ]
  },
  {
   "cell_type": "code",
   "execution_count": 71,
   "metadata": {},
   "outputs": [
    {
     "name": "stdout",
     "output_type": "stream",
     "text": [
      "Requirement already satisfied: freezegun in ./venv-vsc/lib/python3.9/site-packages (1.2.1)\n",
      "Requirement already satisfied: python-dateutil>=2.7 in ./venv-vsc/lib/python3.9/site-packages (from freezegun) (2.8.2)\n",
      "Requirement already satisfied: six>=1.5 in ./venv-vsc/lib/python3.9/site-packages (from python-dateutil>=2.7->freezegun) (1.16.0)\n",
      "Note: you may need to restart the kernel to use updated packages.\n"
     ]
    }
   ],
   "source": [
    "%pip install freezegun"
   ]
  },
  {
   "cell_type": "code",
   "execution_count": 97,
   "metadata": {},
   "outputs": [],
   "source": [
    "#vibo: если нужно замокать текущее время\n",
    "from freezegun import freeze_time\n",
    "import datetime\n",
    "\n",
    "#Freeze time for a pytest test:\n",
    "\n",
    "@freeze_time(\"2022-01-14\")\n",
    "def test():\n",
    "    now = datetime.datetime.now()\n",
    "    assert now == datetime.datetime(2022, 1, 14)"
   ]
  },
  {
   "cell_type": "code",
   "execution_count": 96,
   "metadata": {},
   "outputs": [
    {
     "name": "stdout",
     "output_type": "stream",
     "text": [
      "\u001b[1m============================= test session starts ==============================\u001b[0m\n",
      "platform linux -- Python 3.9.9, pytest-7.1.2, pluggy-1.0.0 -- /home/vibo/vs_code/venv-vsc/bin/python\n",
      "cachedir: .pytest_cache\n",
      "hypothesis profile 'default' -> database=DirectoryBasedExampleDatabase('/home/vibo/vs_code/.hypothesis/examples')\n",
      "metadata: {'Python': '3.9.9', 'Platform': 'Linux-5.15.59-1-MANJARO-x86_64-with-glibc2.33', 'Packages': {'pytest': '7.1.2', 'py': '1.11.0', 'pluggy': '1.0.0'}, 'Plugins': {'hypothesis': '6.54.1', 'Faker': '13.15.1', 'metadata': '2.0.2', 'allure-pytest': '2.9.45', 'json-report': '1.5.0', 'cov': '3.0.0'}}\n",
      "rootdir: /home/vibo/vs_code\n",
      "plugins: hypothesis-6.54.1, Faker-13.15.1, metadata-2.0.2, allure-pytest-2.9.45, json-report-1.5.0, cov-3.0.0\n",
      "collected 1 item                                                               \u001b[0m\n",
      "\n",
      "main6_unittest_time.py::test \u001b[32mPASSED\u001b[0m\u001b[32m                                      [100%]\u001b[0m\n",
      "\n",
      "\u001b[32m============================== \u001b[32m\u001b[1m1 passed\u001b[0m\u001b[32m in 0.26s\u001b[0m\u001b[32m ===============================\u001b[0m\n"
     ]
    }
   ],
   "source": [
    "!pytest main6_unittest_time.py -v"
   ]
  },
  {
   "cell_type": "markdown",
   "metadata": {},
   "source": [
    "##### **-- vsr (mock http-запросов)**"
   ]
  },
  {
   "cell_type": "code",
   "execution_count": 100,
   "metadata": {},
   "outputs": [
    {
     "name": "stdout",
     "output_type": "stream",
     "text": [
      "Collecting django.test\n",
      "  Downloading django-test-0.4030.tar.gz (14 kB)\n",
      "  Preparing metadata (setup.py) ... \u001b[?25ldone\n",
      "\u001b[?25hUsing legacy 'setup.py install' for django.test, since package 'wheel' is not installed.\n",
      "Installing collected packages: django.test\n",
      "  Running setup.py install for django.test ... \u001b[?25ldone\n",
      "\u001b[?25hSuccessfully installed django.test-0.4030\n",
      "Note: you may need to restart the kernel to use updated packages.\n"
     ]
    }
   ],
   "source": [
    "%pip install django.test"
   ]
  },
  {
   "cell_type": "code",
   "execution_count": null,
   "metadata": {},
   "outputs": [],
   "source": [
    "from django.test import override_settings\n",
    "\n",
    "from ..exceptions import GetScoreException\n",
    "from ..services import get_student_score\n",
    "\n",
    "@vcr.use_cassette(\"simple_score/200.yaml\")\n",
    "def test_get_student_score():\n",
    "    assert get_student_score(1) == 21"
   ]
  },
  {
   "cell_type": "markdown",
   "metadata": {},
   "source": [
    "При первом запросе ответ сохраняется в yaml-файле.\n",
    "При повторных запросах ответ берется из yaml-файла.\n",
    "Yaml-файл можно закоммитить в репозиторий."
   ]
  },
  {
   "cell_type": "markdown",
   "metadata": {},
   "source": [
    "##### **-- Полезные модули**\n",
    "\n",
    "Сегодя рассмотрели:\n",
    "- flake8;\n",
    "- black;\n",
    "- mypy;\n",
    "- pytest;\n",
    "- mock.\n",
    "\n",
    "Могут пригодиться:\n",
    "- factory_boy (расширение для фреймворков, есть для django, allchimi);\n",
    "- faker (генерирует фейковые данные)."
   ]
  },
  {
   "cell_type": "markdown",
   "metadata": {},
   "source": [
    "#### **=== E2E ====**\n",
    "End to End тесты, проверяют реальные сценарии взаимодействия с пользователем."
   ]
  },
  {
   "cell_type": "markdown",
   "metadata": {},
   "source": [
    "#### **Какие тесты еще бывают:**\n",
    "\n",
    "- Smoke (тесты для минимальной функциональности, работает или нет);\n",
    "- Regression (тесты, позволяющие проверить при вводе новой функциональности не сломалась ли старая);\n",
    "- Compatibilit (тесты совместимости);\n",
    "- Installation (тесты установки);\n",
    "- Acceptance (приемочные тесты);\n",
    "- Alpha/Beta (на разных категориях пользователей);\n",
    "- Performance (нагрузочное тестирование);\n",
    "- Stress (нагрузочное тестирование);\n",
    "- ...\n"
   ]
  },
  {
   "cell_type": "markdown",
   "metadata": {},
   "source": [
    "#### **Полезные мысли**:\n",
    "\n",
    "- не мокайте весь сервис -> растет процент ложноотрицательных тестов;\n",
    "- не пишите тесты, которые завязаны на сеть или рандом -> растет процент ложноположительных тестов;\n",
    "- не старайтесь писать тесты на 100%-ное покрытие. 20% усилий дают 80% успеха :);\n",
    "- если в компании не было тестов... не нужно бросаться писать тесты для всего, начните добавлять по мере написания новой функциональности;\n",
    "- тест проверяет либо отдельный метод (unit, интеграционный), либо сценарий (e2e);\n",
    "- проверяйте количество обращений к базе/сервису. Чтобы отлавливать лишние запросы;\n",
    "- если в функции много if - с применением параметризации тестов нужно зайти в каждый;\n",
    "- тестировать код на максимально реалистичном сценарии;\n",
    "- разбивать тесты по группам (отдельный файл на каждый тест);\n",
    "- старайтесь писать простые тесты!\n"
   ]
  }
 ],
 "metadata": {
  "kernelspec": {
   "display_name": "Python 3.9.9 ('venv-vsc': venv)",
   "language": "python",
   "name": "python3"
  },
  "language_info": {
   "codemirror_mode": {
    "name": "ipython",
    "version": 3
   },
   "file_extension": ".py",
   "mimetype": "text/x-python",
   "name": "python",
   "nbconvert_exporter": "python",
   "pygments_lexer": "ipython3",
   "version": "3.9.9"
  },
  "orig_nbformat": 4,
  "vscode": {
   "interpreter": {
    "hash": "43807f5c999ff1bc99c26ab56886fdb0eb1ab623df40ddad9a297a39d65cf47c"
   }
  }
 },
 "nbformat": 4,
 "nbformat_minor": 2
}
