{
 "cells": [
  {
   "cell_type": "markdown",
   "metadata": {},
   "source": [
    "### Awaitable объекты"
   ]
  },
  {
   "cell_type": "code",
   "execution_count": 4,
   "metadata": {},
   "outputs": [
    {
     "name": "stdout",
     "output_type": "stream",
     "text": [
      "test\n",
      "1.002049745999102\n"
     ]
    }
   ],
   "source": [
    "import asyncio\n",
    "import time\n",
    "\n",
    "class Timer:\n",
    "    def __init__(self, coro):\n",
    "        self.coro = coro\n",
    "        self.spent = 0\n",
    "    \n",
    "    def __await__(self):\n",
    "        started = time.monotonic()\n",
    "        result = yield from self.coro.__await__()\n",
    "        self.spent = time.monotonic() - started\n",
    "        return result\n",
    "    \n",
    "async def main():\n",
    "    t = Timer(asyncio.sleep(1, 'test'))\n",
    "    res = await t #vibo: ждем завершение Timer, только после этого возвращаем результат\n",
    "    print(res) # test\n",
    "    print(t.spent) # 1.00341845\n",
    "\n",
    "#vibo: для запуска в jupyter\n",
    "await main()"
   ]
  },
  {
   "cell_type": "code",
   "execution_count": null,
   "metadata": {},
   "outputs": [],
   "source": []
  },
  {
   "cell_type": "markdown",
   "metadata": {},
   "source": [
    "#### Что такое coroutine?"
   ]
  },
  {
   "cell_type": "code",
   "execution_count": 6,
   "metadata": {},
   "outputs": [
    {
     "name": "stdout",
     "output_type": "stream",
     "text": [
      "hello\n",
      "world\n"
     ]
    }
   ],
   "source": [
    "import asyncio\n",
    "\n",
    "async def actual_coro():\n",
    "    print('hello')\n",
    "    await asyncio.sleep(3)\n",
    "    print('world')\n",
    "\n",
    "#coro = actual_coro()\n",
    "\n",
    "#vibo: для запуска в jupyter\n",
    "await actual_coro()"
   ]
  },
  {
   "cell_type": "code",
   "execution_count": 7,
   "metadata": {},
   "outputs": [
    {
     "ename": "SyntaxError",
     "evalue": "'yield from' inside async function (1837114281.py, line 6)",
     "output_type": "error",
     "traceback": [
      "\u001b[0;36m  Input \u001b[0;32mIn [7]\u001b[0;36m\u001b[0m\n\u001b[0;31m    yield from asyncio.sleep(1)\u001b[0m\n\u001b[0m    ^\u001b[0m\n\u001b[0;31mSyntaxError\u001b[0m\u001b[0;31m:\u001b[0m 'yield from' inside async function\n"
     ]
    }
   ],
   "source": [
    "import asyncio\n",
    "\n",
    "@asyncio.coroutine\n",
    "async def old_coro():\n",
    "    print('hello')\n",
    "    yield from asyncio.sleep(1)\n",
    "    print('world')\n",
    "\n",
    "#coro = old_coro()\n"
   ]
  },
  {
   "cell_type": "markdown",
   "metadata": {},
   "source": [
    "#### Как запустить сопрограмму?"
   ]
  },
  {
   "cell_type": "markdown",
   "metadata": {},
   "source": [
    "##### asyncio.run()"
   ]
  },
  {
   "cell_type": "code",
   "execution_count": 8,
   "metadata": {},
   "outputs": [
    {
     "data": {
      "text/plain": [
       "'hello, world!'"
      ]
     },
     "execution_count": 8,
     "metadata": {},
     "output_type": "execute_result"
    }
   ],
   "source": [
    "import asyncio\n",
    "\n",
    "async def get_text():\n",
    "    return 'hello, world!'\n",
    "\n",
    "async def say_text():\n",
    "    text = await get_text()\n",
    "    await asyncio.sleep(1)\n",
    "    return(text)\n",
    "\n",
    "#result = asyncio.run(say_text())\n",
    "#print(result) # hello, world!\n",
    "\n",
    "await say_text()"
   ]
  },
  {
   "cell_type": "markdown",
   "metadata": {},
   "source": [
    "##### asyncio.create_task()"
   ]
  },
  {
   "cell_type": "code",
   "execution_count": 9,
   "metadata": {},
   "outputs": [
    {
     "data": {
      "text/plain": [
       "'hello, world'"
      ]
     },
     "execution_count": 9,
     "metadata": {},
     "output_type": "execute_result"
    }
   ],
   "source": [
    "async def get_text(delay, text):\n",
    "    await asyncio.sleep(delay)\n",
    "    return text\n",
    "\n",
    "async def say_text():\n",
    "    task1 = asyncio.create_task(get_text(5, 'hello'))\n",
    "    task2 = asyncio.create_task(get_text(5, 'world'))\n",
    "    await task1\n",
    "    await task2\n",
    "    return ', '.join([task1.result(), task2.result()])\n",
    "\n",
    "#result = asyncio.run(say_text())\n",
    "#print(result) # hello, world\n",
    "\n",
    "await say_text()\n"
   ]
  },
  {
   "cell_type": "markdown",
   "metadata": {},
   "source": [
    "#### Что такое asyncio.Task и зачем он нужен?"
   ]
  },
  {
   "cell_type": "code",
   "execution_count": null,
   "metadata": {},
   "outputs": [],
   "source": [
    "import asyncio\n",
    "import random\n",
    "\n",
    "rate = random.randint(1, 99)\n",
    "\n",
    "async def handle(reader, writer):\n",
    "    writer.write(f'Dollar rate is {rate}. \\n'.encode())\n",
    "    await writer.drain()\n",
    "    writer.close()\n",
    "\n",
    "async def main():\n",
    "    server = await asyncio.start_server(handle, '127.0.0.1', 8888)\n",
    "    async with server:\n",
    "        await server.serve_forever()\n",
    "\n",
    "#asyncio.run(main())\n",
    "\n",
    "await main()"
   ]
  },
  {
   "cell_type": "markdown",
   "metadata": {},
   "source": [
    "Для обновления информации допишем update_rate() "
   ]
  },
  {
   "cell_type": "code",
   "execution_count": null,
   "metadata": {},
   "outputs": [],
   "source": [
    "import asyncio\n",
    "import random\n",
    "\n",
    "rate = random.randint(1, 99)\n",
    "\n",
    "async def update_rate():\n",
    "    global rate\n",
    "    while True:\n",
    "        rate = random.randint(1, 99)\n",
    "        await asyncio.sleep(10)\n",
    "\n",
    "async def main():\n",
    "    asyncio.create_task(update_rate())\n",
    "    server = await asyncio.start_server(handle, '127.0.0.1', 8888)\n",
    "    async with server:\n",
    "        await server.serve_forever()\n",
    "\n",
    "#asyncio.run(main())\n",
    "await main()"
   ]
  },
  {
   "cell_type": "markdown",
   "metadata": {},
   "source": [
    "#### Что такое asyncio.Future?"
   ]
  },
  {
   "cell_type": "code",
   "execution_count": 8,
   "metadata": {},
   "outputs": [
    {
     "name": "stdout",
     "output_type": "stream",
     "text": [
      "12302.324894362\n",
      "12303.326730096\n"
     ]
    }
   ],
   "source": [
    "import asyncio\n",
    "import time\n",
    "\n",
    "async def my_sleep(delay):\n",
    "    loop = asyncio.get_running_loop()\n",
    "    future = loop.create_future()\n",
    "    loop.call_later(delay, future.set_result, True)\n",
    "    await future\n",
    "\n",
    "async def main():\n",
    "    loop = asyncio.get_running_loop()\n",
    "    print(loop.time()) # 0.9779213\n",
    "    await my_sleep(1)\n",
    "    print(loop.time()) # 1.979251479\n",
    "\n",
    "#vibo: для запуска из python\n",
    "#asyncio.run(main())\n",
    "#vibo: для запуска в jupyter\n",
    "await main()"
   ]
  },
  {
   "cell_type": "markdown",
   "metadata": {},
   "source": [
    "### Высокоуровневый API"
   ]
  },
  {
   "cell_type": "markdown",
   "metadata": {},
   "source": [
    "#### Как приостановить задачу на некоторое время?"
   ]
  },
  {
   "cell_type": "code",
   "execution_count": 9,
   "metadata": {},
   "outputs": [
    {
     "name": "stdout",
     "output_type": "stream",
     "text": [
      "hello\n"
     ]
    }
   ],
   "source": [
    "import asyncio\n",
    "\n",
    "async def main():\n",
    "    print(await asyncio.sleep(1, 'hello'))\n",
    "\n",
    "#vibo: для запуска из python\n",
    "#asyncio.run(main())\n",
    "#vibo: для запуска в jupyter\n",
    "await main()"
   ]
  },
  {
   "cell_type": "markdown",
   "metadata": {},
   "source": [
    "#### Как запустить сразу несколько задач?"
   ]
  },
  {
   "cell_type": "code",
   "execution_count": 34,
   "metadata": {},
   "outputs": [],
   "source": [
    "import aiohttp\n",
    "\n",
    "async def check_user_exists(user_id: int) -> bool:\n",
    "    async with aiohttp.ClientSession() as session:\n",
    "        url = f'https://example.org/users/{user_id}'\n",
    "        async with session.head(url) as resp:\n",
    "            print(user_id, resp.status == 200)\n",
    "            return resp.status == 200"
   ]
  },
  {
   "cell_type": "code",
   "execution_count": 35,
   "metadata": {},
   "outputs": [
    {
     "name": "stdout",
     "output_type": "stream",
     "text": [
      "0 False\n",
      "1 False\n",
      "2 False\n",
      "3 False\n",
      "4 False\n",
      "5 False\n",
      "6 False\n",
      "7 False\n",
      "8 False\n",
      "9 False\n"
     ]
    }
   ],
   "source": [
    "import asyncio\n",
    "\n",
    "async def main():\n",
    "    for i in range(10):\n",
    "        await check_user_exists(i)\n",
    "\n",
    "#vibo: для запуска из python\n",
    "#asyncio.run(main())\n",
    "#vibo: для запуска в jupyter\n",
    "await main()"
   ]
  },
  {
   "cell_type": "markdown",
   "metadata": {},
   "source": [
    "Пробуем сделать лучше"
   ]
  },
  {
   "cell_type": "code",
   "execution_count": 36,
   "metadata": {},
   "outputs": [],
   "source": [
    "async def main():\n",
    "    future = asyncio.get_running_loop().create_future()\n",
    "    tasks = []\n",
    "    executing = 0\n",
    "\n",
    "    def cb(task):\n",
    "        nonlocal executing\n",
    "        executing -= 1\n",
    "        if executing == 0:\n",
    "            future.set_result([task.result() for task in tasks])\n",
    "    \n",
    "    for i in range(10):\n",
    "        task = asyncio.create_task(check_user_exists(i))\n",
    "        task.add_done_callback(cb)\n",
    "        executing += 1\n",
    "        tasks.append(task)\n",
    "    \n",
    "    await future\n",
    "    print(future.result())"
   ]
  },
  {
   "cell_type": "code",
   "execution_count": 37,
   "metadata": {},
   "outputs": [
    {
     "name": "stdout",
     "output_type": "stream",
     "text": [
      "6 False\n",
      "7 False\n",
      "0 False\n",
      "4 False\n",
      "8 False\n",
      "2 False\n",
      "5 False\n",
      "9 False\n",
      "3 False\n",
      "1 False\n",
      "[False, False, False, False, False, False, False, False, False, False]\n"
     ]
    }
   ],
   "source": [
    "await main()"
   ]
  },
  {
   "cell_type": "code",
   "execution_count": 41,
   "metadata": {},
   "outputs": [
    {
     "name": "stdout",
     "output_type": "stream",
     "text": [
      "1 False\n",
      "3 False\n",
      "9 False\n",
      "6 False\n",
      "8 False\n",
      "0 False\n",
      "4 False\n",
      "2 False\n",
      "7 False\n",
      "5 False\n"
     ]
    }
   ],
   "source": [
    "import asyncio\n",
    "\n",
    "async def main():\n",
    "    coros = (\n",
    "        check_user_exists(i)\n",
    "        for i in range(10)\n",
    "    )\n",
    "    \n",
    "    # <class 'list'>: [False, False, ...]\n",
    "    results = await asyncio.gather(*coros)\n",
    "\n",
    "await main()"
   ]
  },
  {
   "cell_type": "markdown",
   "metadata": {},
   "source": [
    "#### А что будет если не ждать gather?"
   ]
  },
  {
   "cell_type": "code",
   "execution_count": 29,
   "metadata": {},
   "outputs": [
    {
     "name": "stdout",
     "output_type": "stream",
     "text": [
      "7 False\n",
      "6 False\n",
      "4 False\n",
      "2 False\n",
      "1 False\n",
      "3 False\n",
      "5 False\n",
      "0 False\n",
      "9 False\n",
      "8 False\n"
     ]
    }
   ],
   "source": [
    "import asyncio\n",
    "\n",
    "async def main():\n",
    "    coros = (\n",
    "        check_user_exists(i)\n",
    "        for i in range(10)\n",
    "    )\n",
    "    \n",
    "    asyncio.gather(*coros)\n",
    "    await asyncio.sleep(10)\n",
    "\n",
    "await main()\n"
   ]
  },
  {
   "cell_type": "markdown",
   "metadata": {},
   "source": [
    "#### Что будет в случае исключения в одной из задач в gather?"
   ]
  },
  {
   "cell_type": "code",
   "execution_count": 42,
   "metadata": {},
   "outputs": [
    {
     "name": "stdout",
     "output_type": "stream",
     "text": [
      "0 is OK\n",
      "1 is OK\n",
      "2 is OK\n",
      "Boooom!\n",
      "4 is OK\n",
      "5 is OK\n",
      "6 is OK\n",
      "7 is OK\n"
     ]
    }
   ],
   "source": [
    "async def trigger(position):\n",
    "    await asyncio.sleep(position)\n",
    "    if position == 3:\n",
    "        raise RuntimeError('Boooom!')\n",
    "    print ('%d is OK' % position)\n",
    "\n",
    "async def russian_roulette():\n",
    "    coros = (trigger(i) for i in range(8))\n",
    "    try:\n",
    "        await asyncio.gather(*coros)\n",
    "    except RuntimeError as e:\n",
    "        print(e)\n",
    "    await asyncio.sleep(10)\n",
    "\n",
    "#asyncio.ru(russian_roulette)\n",
    "await russian_roulette()"
   ]
  },
  {
   "cell_type": "markdown",
   "metadata": {},
   "source": [
    "#### Как отменить задачу?"
   ]
  },
  {
   "cell_type": "code",
   "execution_count": 3,
   "metadata": {},
   "outputs": [
    {
     "name": "stdout",
     "output_type": "stream",
     "text": [
      "start\n",
      "task.cancel() called\n",
      "task successfully cancelled\n"
     ]
    }
   ],
   "source": [
    "async def coro():\n",
    "    print('start')\n",
    "    await asyncio.sleep(2)\n",
    "    print('finished')\n",
    "\n",
    "async def cancel(task):\n",
    "    await asyncio.sleep(0.5)\n",
    "    task.cancel()\n",
    "    print('task.cancel() called')\n",
    "    try:\n",
    "        await task\n",
    "    except asyncio.CancelledError:\n",
    "        print('task successfully cancelled')\n",
    "\n",
    "async def main():\n",
    "    task = asyncio.create_task(coro())\n",
    "    asyncio.create_task(cancel(task))\n",
    "    await asyncio.sleep(5)\n",
    "    assert task.cancelled()\n",
    "\n",
    "await main()"
   ]
  },
  {
   "cell_type": "markdown",
   "metadata": {},
   "source": [
    "#### Зачем ждать отмененную задачу?"
   ]
  },
  {
   "cell_type": "code",
   "execution_count": 1,
   "metadata": {},
   "outputs": [],
   "source": [
    "async def check_user_exists(user_id: int) -> bool:\n",
    "    async with aiohttp.ClientSession() as session:\n",
    "        try:\n",
    "            url = f'https://example.org/users/{user_id}'\n",
    "            async with session.head(url) as resp:\n",
    "                print(user_id, resp.status == 200)\n",
    "                return resp.status == 200\n",
    "        finally: # task.cancel()\n",
    "            await session.post(\n",
    "                'http://stat.com/checked-users',\n",
    "                json={'user_id': user_id}\n",
    "            )"
   ]
  },
  {
   "cell_type": "markdown",
   "metadata": {},
   "source": [
    "#### Как защитить задачу от отмены?"
   ]
  },
  {
   "cell_type": "code",
   "execution_count": 58,
   "metadata": {},
   "outputs": [
    {
     "name": "stdout",
     "output_type": "stream",
     "text": [
      "start\n",
      "task.cancel() called\n",
      "ninja coroutine!\n",
      "finished\n"
     ]
    }
   ],
   "source": [
    "async def coro():\n",
    "    print('start')\n",
    "    try:\n",
    "        await asyncio.sleep(2)\n",
    "    except asyncio.CancelledError:\n",
    "        print('ninja coroutine!')\n",
    "    print('finished')\n",
    "\n",
    "async def main():\n",
    "    task = asyncio.create_task(coro())\n",
    "    asyncio.create_task(cancel(task))\n",
    "    await asyncio.sleep(5)\n",
    "    assert not task.cancelled()\n",
    "\n",
    "#asyncio.run(main())\n",
    "await main()"
   ]
  },
  {
   "cell_type": "markdown",
   "metadata": {},
   "source": [
    "#### asyncio.shield() защищает awaitable объект от отмены"
   ]
  },
  {
   "cell_type": "code",
   "execution_count": 4,
   "metadata": {},
   "outputs": [
    {
     "name": "stdout",
     "output_type": "stream",
     "text": [
      "start\n",
      "task.cancel() called\n",
      "task successfully cancelled\n",
      "finished\n"
     ]
    }
   ],
   "source": [
    "import asyncio\n",
    "\n",
    "async def coro():\n",
    "    print('start')\n",
    "    await asyncio.sleep(2)\n",
    "    print('finished')\n",
    "\n",
    "async def main():\n",
    "    task = asyncio.create_task(coro())\n",
    "    shielded = asyncio.shield(task)\n",
    "    asyncio.create_task(cancel(shielded))\n",
    "    await asyncio.sleep(5)\n",
    "    assert not task.cancelled()\n",
    "\n",
    "#asyncio.run(main())\n",
    "await main()"
   ]
  },
  {
   "cell_type": "markdown",
   "metadata": {},
   "source": [
    "#### Что происходит с ожидающим отмененной задачи, которую отменили?"
   ]
  },
  {
   "cell_type": "code",
   "execution_count": 60,
   "metadata": {},
   "outputs": [
    {
     "name": "stdout",
     "output_type": "stream",
     "text": [
      "start\n",
      "task.cancel() called\n",
      "task successfully cancelled\n"
     ]
    },
    {
     "ename": "CancelledError",
     "evalue": "",
     "output_type": "error",
     "traceback": [
      "\u001b[0;31m---------------------------------------------------------------------------\u001b[0m",
      "\u001b[0;31mCancelledError\u001b[0m                            Traceback (most recent call last)",
      "\u001b[1;32m/home/vibo/vs_code/async_lect.ipynb Cell 42\u001b[0m in \u001b[0;36m<cell line: 14>\u001b[0;34m()\u001b[0m\n\u001b[1;32m     <a href='vscode-notebook-cell:/home/vibo/vs_code/async_lect.ipynb#ch0000047?line=10'>11</a>\u001b[0m     \u001b[39massert\u001b[39;00m \u001b[39mnot\u001b[39;00m task\u001b[39m.\u001b[39mcancelled()\n\u001b[1;32m     <a href='vscode-notebook-cell:/home/vibo/vs_code/async_lect.ipynb#ch0000047?line=12'>13</a>\u001b[0m \u001b[39m#asyncio.run(main())\u001b[39;00m\n\u001b[0;32m---> <a href='vscode-notebook-cell:/home/vibo/vs_code/async_lect.ipynb#ch0000047?line=13'>14</a>\u001b[0m \u001b[39mawait\u001b[39;00m main()\n",
      "\u001b[1;32m/home/vibo/vs_code/async_lect.ipynb Cell 42\u001b[0m in \u001b[0;36mmain\u001b[0;34m()\u001b[0m\n\u001b[1;32m      <a href='vscode-notebook-cell:/home/vibo/vs_code/async_lect.ipynb#ch0000047?line=7'>8</a>\u001b[0m shielded \u001b[39m=\u001b[39m asyncio\u001b[39m.\u001b[39mshield(task)\n\u001b[1;32m      <a href='vscode-notebook-cell:/home/vibo/vs_code/async_lect.ipynb#ch0000047?line=8'>9</a>\u001b[0m asyncio\u001b[39m.\u001b[39mcreate_task(cancel(shielded))\n\u001b[0;32m---> <a href='vscode-notebook-cell:/home/vibo/vs_code/async_lect.ipynb#ch0000047?line=9'>10</a>\u001b[0m \u001b[39mawait\u001b[39;00m shielded\n\u001b[1;32m     <a href='vscode-notebook-cell:/home/vibo/vs_code/async_lect.ipynb#ch0000047?line=10'>11</a>\u001b[0m \u001b[39massert\u001b[39;00m \u001b[39mnot\u001b[39;00m task\u001b[39m.\u001b[39mcancelled()\n",
      "\u001b[0;31mCancelledError\u001b[0m: "
     ]
    }
   ],
   "source": [
    "async def coro():\n",
    "    print('start')\n",
    "    await asyncio.sleep(2)\n",
    "    print('finished')\n",
    "\n",
    "async def main():\n",
    "    task = asyncio.create_task(coro())\n",
    "    shielded = asyncio.shield(task)\n",
    "    asyncio.create_task(cancel(shielded))\n",
    "    await shielded\n",
    "    assert not task.cancelled()\n",
    "\n",
    "#asyncio.run(main())\n",
    "await main()\n"
   ]
  },
  {
   "cell_type": "markdown",
   "metadata": {},
   "source": [
    "#### Как ограничить время ожидания awaitable объекта (таймаут)?"
   ]
  },
  {
   "cell_type": "code",
   "execution_count": 5,
   "metadata": {},
   "outputs": [
    {
     "name": "stdout",
     "output_type": "stream",
     "text": [
      "I was cancelled\n",
      "timeout\n"
     ]
    }
   ],
   "source": [
    "async def eternity():\n",
    "    try:\n",
    "        await asyncio.sleep(3600)\n",
    "    except asyncio.CancelledError:\n",
    "        print('I was cancelled')\n",
    "        raise\n",
    "    print('finished')\n",
    "\n",
    "async def main():\n",
    "    try:\n",
    "        await asyncio.wait_for(eternity(), timeout=1.0)\n",
    "    except asyncio.TimeoutError:\n",
    "        print('timeout')\n",
    "\n",
    "#asyncio.run(main())\n",
    "await main()"
   ]
  },
  {
   "cell_type": "markdown",
   "metadata": {},
   "source": [
    "#### Как подождать выполнения awaitable объектов?"
   ]
  },
  {
   "cell_type": "code",
   "execution_count": 3,
   "metadata": {},
   "outputs": [
    {
     "name": "stdout",
     "output_type": "stream",
     "text": [
      "5 False\n",
      "3 False\n",
      "7 False\n",
      "4 False\n",
      "8 False\n",
      "6 False\n",
      "0 False\n",
      "9 False\n",
      "1 False\n",
      "2 False\n",
      "set() {<Task pending name='Task-7' coro=<check_user_exists() running at /tmp/ipykernel_244/1346784782.py:9> wait_for=<Future pending cb=[<TaskWakeupMethWrapper object at 0x7fc763856d60>()]>>, <Task pending name='Task-12' coro=<check_user_exists() running at /tmp/ipykernel_244/1346784782.py:9> wait_for=<Future pending cb=[<TaskWakeupMethWrapper object at 0x7fc7638e2370>()]>>, <Task pending name='Task-14' coro=<check_user_exists() running at /tmp/ipykernel_244/1346784782.py:9> wait_for=<Future pending cb=[<TaskWakeupMethWrapper object at 0x7fc763873940>()]>>, <Task pending name='Task-10' coro=<check_user_exists() running at /tmp/ipykernel_244/1346784782.py:9> wait_for=<Future pending cb=[<TaskWakeupMethWrapper object at 0x7fc763856d30>()]>>, <Task pending name='Task-8' coro=<check_user_exists() running at /tmp/ipykernel_244/1346784782.py:9> wait_for=<Future pending cb=[<TaskWakeupMethWrapper object at 0x7fc763856af0>()]>>, <Task pending name='Task-13' coro=<check_user_exists() running at /tmp/ipykernel_244/1346784782.py:9> wait_for=<Future pending cb=[<TaskWakeupMethWrapper object at 0x7fc763873880>()]>>, <Task pending name='Task-15' coro=<check_user_exists() running at /tmp/ipykernel_244/1346784782.py:9> wait_for=<Future pending cb=[<TaskWakeupMethWrapper object at 0x7fc7638739d0>()]>>, <Task pending name='Task-6' coro=<check_user_exists() running at /tmp/ipykernel_244/1346784782.py:9> wait_for=<Future pending cb=[<TaskWakeupMethWrapper object at 0x7fc7636f2040>()]>>, <Task pending name='Task-11' coro=<check_user_exists() running at /tmp/ipykernel_244/1346784782.py:9> wait_for=<Future pending cb=[<TaskWakeupMethWrapper object at 0x7fc760530a30>()]>>, <Task pending name='Task-9' coro=<check_user_exists() running at /tmp/ipykernel_244/1346784782.py:9> wait_for=<Future pending cb=[<TaskWakeupMethWrapper object at 0x7fc76396df70>()]>>}\n"
     ]
    }
   ],
   "source": [
    "import asyncio\n",
    "import aiohttp\n",
    "\n",
    "async def main():\n",
    "    tasks = [\n",
    "        asyncio.create_task(check_user_exists(i))\n",
    "        for i in range(10)\n",
    "    ]\n",
    "\n",
    "    done, pending = await asyncio.wait(tasks, timeout=1)\n",
    "    # done: <class 'set'>: {<Task finished coro=...>}\n",
    "    # pending: <class 'set'>: {<Task finished coro=...>}\n",
    "    print(done, pending)\n",
    "\n",
    "#asyncio.run(main())\n",
    "await main()"
   ]
  },
  {
   "cell_type": "code",
   "execution_count": 4,
   "metadata": {},
   "outputs": [
    {
     "name": "stdout",
     "output_type": "stream",
     "text": [
      "7 False\n",
      "1 False\n",
      "4 False\n",
      "2 False\n",
      "8 False\n",
      "0 False\n",
      "3 False\n",
      "5 False\n",
      "9 False\n",
      "6 False\n",
      "{<Task finished name='Task-23' coro=<check_user_exists() done, defined at /tmp/ipykernel_245/1346784782.py:1> result=False>, <Task finished name='Task-25' coro=<check_user_exists() done, defined at /tmp/ipykernel_245/1346784782.py:1> result=False>, <Task finished name='Task-19' coro=<check_user_exists() done, defined at /tmp/ipykernel_245/1346784782.py:1> result=False>, <Task finished name='Task-21' coro=<check_user_exists() done, defined at /tmp/ipykernel_245/1346784782.py:1> result=False>, <Task finished name='Task-17' coro=<check_user_exists() done, defined at /tmp/ipykernel_245/1346784782.py:1> result=False>, <Task finished name='Task-24' coro=<check_user_exists() done, defined at /tmp/ipykernel_245/1346784782.py:1> result=False>, <Task finished name='Task-26' coro=<check_user_exists() done, defined at /tmp/ipykernel_245/1346784782.py:1> result=False>, <Task finished name='Task-22' coro=<check_user_exists() done, defined at /tmp/ipykernel_245/1346784782.py:1> result=False>, <Task finished name='Task-18' coro=<check_user_exists() done, defined at /tmp/ipykernel_245/1346784782.py:1> result=False>, <Task finished name='Task-20' coro=<check_user_exists() done, defined at /tmp/ipykernel_245/1346784782.py:1> result=False>} set()\n"
     ]
    }
   ],
   "source": [
    "import asyncio\n",
    "import aiohttp\n",
    "\n",
    "async def main():\n",
    "    tasks = [\n",
    "        asyncio.create_task(check_user_exists(i))\n",
    "        for i in range(10)\n",
    "    ]\n",
    "\n",
    "    done, pending = await asyncio.wait(\n",
    "        tasks, return_when=asyncio.FIRST_EXCEPTION\n",
    "    )\n",
    "    # done: <class 'set'>: {<Task finished rn=...>}\n",
    "    # pending: <class 'set'>: {<Task finished coro=...>}\n",
    "    print(done, pending)\n",
    "\n",
    "#asyncio.run(main())\n",
    "await main()"
   ]
  },
  {
   "cell_type": "markdown",
   "metadata": {},
   "source": [
    "#### Как еще подождать выполнения awaitable объектов?"
   ]
  },
  {
   "cell_type": "code",
   "execution_count": 2,
   "metadata": {},
   "outputs": [
    {
     "name": "stdout",
     "output_type": "stream",
     "text": [
      "0\n",
      "1\n",
      "2\n",
      "3\n",
      "4\n",
      "5\n",
      "6\n",
      "7\n",
      "8\n",
      "9\n"
     ]
    }
   ],
   "source": [
    "import asyncio\n",
    "import aiohttp\n",
    "\n",
    "async def dalayed_result(delay) -> bool:\n",
    "    return await asyncio.sleep(delay, delay)\n",
    "\n",
    "async def main():\n",
    "    tasks = [\n",
    "        dalayed_result(i)\n",
    "        for i in range(10)\n",
    "    ]\n",
    "\n",
    "    for earliest in asyncio.as_completed(tasks):\n",
    "        result = await earliest\n",
    "        print(result)\n",
    "\n",
    "#asyncio.run(main())\n",
    "await main()\n"
   ]
  },
  {
   "cell_type": "markdown",
   "metadata": {},
   "source": [
    "#### Что сейчас выполняется?"
   ]
  },
  {
   "cell_type": "code",
   "execution_count": 1,
   "metadata": {},
   "outputs": [
    {
     "name": "stdout",
     "output_type": "stream",
     "text": [
      "<Task pending name='Task-4' coro=<InteractiveShell.run_cell_async() running at /home/vibo/vs_code/venv-vsc/lib/python3.9/site-packages/IPython/core/interactiveshell.py:3135> cb=[IPythonKernel._cancel_on_sigint.<locals>.cancel_unless_done(<Future pendi...ernel.py:271]>)() at /home/vibo/vs_code/venv-vsc/lib/python3.9/site-packages/ipykernel/ipkernel.py:271, <TaskWakeupMethWrapper object at 0x7f2b180e5c70>()]>\n"
     ]
    }
   ],
   "source": [
    "import asyncio\n",
    "\n",
    "async def main():\n",
    "    task = asyncio.current_task()\n",
    "    # <Task pending coro=<main() running at ...>\n",
    "    print(task)\n",
    "\n",
    "#asyncio.run(main())\n",
    "await main()"
   ]
  },
  {
   "cell_type": "code",
   "execution_count": 2,
   "metadata": {},
   "outputs": [
    {
     "name": "stdout",
     "output_type": "stream",
     "text": [
      "<class 'set'>\n",
      "{<Task pending name='Task-12' coro=<check_user_exists() running at /tmp/ipykernel_241/1346784782.py:5> wait_for=<Future pending cb=[BaseSelectorEventLoop._sock_write_done(110, handle=<Handle BaseS...16.34', 443))>)(), <TaskWakeupMethWrapper object at 0x7fca4a77ed90>()]> cb=[_gather.<locals>._done_callback() at /usr/lib/python3.9/asyncio/tasks.py:771]>, <Task pending name='Task-3' coro=<Kernel.dispatch_queue() running at /home/vibo/vs_code/venv-vsc/lib/python3.9/site-packages/ipykernel/kernelbase.py:510> wait_for=<Task pending name='Task-4' coro=<InteractiveShell.run_cell_async() running at /home/vibo/vs_code/venv-vsc/lib/python3.9/site-packages/IPython/core/interactiveshell.py:3135> cb=[IPythonKernel._cancel_on_sigint.<locals>.cancel_unless_done(<Future pendi...ernel.py:271]>)() at /home/vibo/vs_code/venv-vsc/lib/python3.9/site-packages/ipykernel/ipkernel.py:271, <TaskWakeupMethWrapper object at 0x7fca6062a190>()]> cb=[IOLoop.add_future.<locals>.<lambda>() at /home/vibo/vs_code/venv-vsc/lib/python3.9/site-packages/tornado/ioloop.py:687]>, <Task pending name='Task-10' coro=<check_user_exists() running at /tmp/ipykernel_241/1346784782.py:5> wait_for=<Future pending cb=[BaseSelectorEventLoop._sock_write_done(117, handle=<Handle BaseS...16.34', 443))>)(), <TaskWakeupMethWrapper object at 0x7fca4a77eaf0>()]> cb=[_gather.<locals>._done_callback() at /usr/lib/python3.9/asyncio/tasks.py:771]>, <Task pending name='Task-8' coro=<check_user_exists() running at /tmp/ipykernel_241/1346784782.py:5> wait_for=<Future pending cb=[BaseSelectorEventLoop._sock_write_done(99, handle=<Handle BaseS...16.34', 443))>)(), <TaskWakeupMethWrapper object at 0x7fca4a77ef70>()]> cb=[_gather.<locals>._done_callback() at /usr/lib/python3.9/asyncio/tasks.py:771]>, <Task pending name='Task-13' coro=<check_user_exists() running at /tmp/ipykernel_241/1346784782.py:5> wait_for=<Future pending cb=[BaseSelectorEventLoop._sock_write_done(119, handle=<Handle BaseS...16.34', 443))>)(), <TaskWakeupMethWrapper object at 0x7fca4a7fd790>()]> cb=[_gather.<locals>._done_callback() at /usr/lib/python3.9/asyncio/tasks.py:771]>, <Task pending name='Task-4' coro=<InteractiveShell.run_cell_async() running at /home/vibo/vs_code/venv-vsc/lib/python3.9/site-packages/IPython/core/interactiveshell.py:3135> cb=[IPythonKernel._cancel_on_sigint.<locals>.cancel_unless_done(<Future pendi...ernel.py:271]>)() at /home/vibo/vs_code/venv-vsc/lib/python3.9/site-packages/ipykernel/ipkernel.py:271, <TaskWakeupMethWrapper object at 0x7fca6062a190>()]>, <Task pending name='Task-5' coro=<check_user_exists() running at /tmp/ipykernel_241/1346784782.py:5> wait_for=<Future pending cb=[BaseSelectorEventLoop._sock_write_done(93, handle=<Handle BaseS...16.34', 443))>)(), <TaskWakeupMethWrapper object at 0x7fca4a77e940>()]> cb=[_gather.<locals>._done_callback() at /usr/lib/python3.9/asyncio/tasks.py:771]>, <Task pending name='Task-11' coro=<check_user_exists() running at /tmp/ipykernel_241/1346784782.py:5> wait_for=<Future pending cb=[BaseSelectorEventLoop._sock_write_done(101, handle=<Handle BaseS...16.34', 443))>)(), <TaskWakeupMethWrapper object at 0x7fca4a77ee20>()]> cb=[_gather.<locals>._done_callback() at /usr/lib/python3.9/asyncio/tasks.py:771]>, <Task pending name='Task-7' coro=<check_user_exists() running at /tmp/ipykernel_241/1346784782.py:5> wait_for=<Future pending cb=[BaseSelectorEventLoop._sock_write_done(98, handle=<Handle BaseS...16.34', 443))>)(), <TaskWakeupMethWrapper object at 0x7fca4a77e970>()]> cb=[_gather.<locals>._done_callback() at /usr/lib/python3.9/asyncio/tasks.py:771]>, <Task pending name='Task-9' coro=<check_user_exists() running at /tmp/ipykernel_241/1346784782.py:5> wait_for=<Future pending cb=[BaseSelectorEventLoop._sock_write_done(109, handle=<Handle BaseS...16.34', 443))>)(), <TaskWakeupMethWrapper object at 0x7fca4a77ea60>()]> cb=[_gather.<locals>._done_callback() at /usr/lib/python3.9/asyncio/tasks.py:771]>, <Task pending name='Task-14' coro=<check_user_exists() running at /tmp/ipykernel_241/1346784782.py:5> wait_for=<Future pending cb=[BaseSelectorEventLoop._sock_write_done(121, handle=<Handle BaseS...16.34', 443))>)(), <TaskWakeupMethWrapper object at 0x7fca4a7c2e80>()]> cb=[_gather.<locals>._done_callback() at /usr/lib/python3.9/asyncio/tasks.py:771]>, <Task pending name='Task-6' coro=<check_user_exists() running at /tmp/ipykernel_241/1346784782.py:5> wait_for=<Future pending cb=[BaseSelectorEventLoop._sock_write_done(100, handle=<Handle BaseS...16.34', 443))>)(), <TaskWakeupMethWrapper object at 0x7fca4a77e430>()]> cb=[_gather.<locals>._done_callback() at /usr/lib/python3.9/asyncio/tasks.py:771]>}\n"
     ]
    }
   ],
   "source": [
    "import asyncio\n",
    "import aiohttp\n",
    "\n",
    "async def main():\n",
    "    coros = (\n",
    "        check_user_exists(i)\n",
    "        for i in range(10)\n",
    "    )\n",
    "    asyncio.gather(*coros)\n",
    "    await asyncio.sleep(0.1)\n",
    "    tasks = asyncio.all_tasks()\n",
    "    print(type(tasks))\n",
    "    print(tasks)\n",
    "\n",
    "#asyncio.run(main())\n",
    "await main()"
   ]
  },
  {
   "cell_type": "markdown",
   "metadata": {},
   "source": [
    "### Низкоуровневый API"
   ]
  },
  {
   "cell_type": "markdown",
   "metadata": {},
   "source": [
    "#### Что скрывается за uvloop.install()?"
   ]
  },
  {
   "cell_type": "code",
   "execution_count": null,
   "metadata": {},
   "outputs": [],
   "source": [
    "def install():\n",
    "    \"\"\"A helper function to install uvloop policy.\"\"\"\n",
    "    __asyncio.set_event_loop_policy(EventLoopPolicy())\n",
    "\n",
    "class EventLoopPolocy(__BasePolicy):\n",
    "    \"\"\"Event loop policy.\n",
    "    The preferred way to make your application use uvloop:\n",
    "    >>> import asyncio\n",
    "    >>> import uvloop\n",
    "    >>>\n",
    "asyncio.set_event_loop_policy(uvloop.EventLoopPolicy())\n",
    "    >>> asyncio.get_event_loop(\n",
    "    <uvloop.Loop running=False closed=False debug=False>\n",
    "    \"\"\""
   ]
  },
  {
   "cell_type": "markdown",
   "metadata": {},
   "source": [
    "#### Запуск синхронного кода в процессе/потоке"
   ]
  },
  {
   "cell_type": "code",
   "execution_count": null,
   "metadata": {},
   "outputs": [],
   "source": [
    "import asyncio\n",
    "\n",
    "def blocking_io():\n",
    "    with open('dev/urandom', 'rb') as f:\n",
    "        return f.read(100)\n",
    "\n",
    "def cpu_bound():\n",
    "    return sum(i * i for i in range(10 ** 7))\n",
    "\n",
    "async def main():\n",
    "    loop = asyncio.get_running_loop()\n",
    "    # 1. Run in the default loop's executor:\n",
    "    result = await loop.run_in_executor(None, blocking_io)\n",
    "    print('default thread pool', result)\n",
    "\n",
    "#asyncio.run(main()\n",
    "await main()"
   ]
  },
  {
   "cell_type": "code",
   "execution_count": null,
   "metadata": {},
   "outputs": [],
   "source": [
    "async def main():\n",
    "    loop = asyncio.get_running_loop()\n",
    "\n",
    "    # 2. Run in a custom thread pool:\n",
    "    with concurrent.futures.ThreadPoolExecutor() as pool:\n",
    "        result = await loop.run_in_executor(pool, blocking_io)\n",
    "        print('custom thread pool', result)\n",
    "    \n",
    "    #3. Run in a custom process pool:\n",
    "    with concurrent.futures.ProcessPoolExecutor() as pool:\n",
    "        result = await loop.run_in_executor(pool, cpu_bound)\n",
    "        print('custom process pool', result)\n",
    "\n",
    "#asyncio.run(main())\n",
    "await main()"
   ]
  },
  {
   "cell_type": "markdown",
   "metadata": {},
   "source": [
    "### Асинхронные интерфейсы"
   ]
  },
  {
   "cell_type": "markdown",
   "metadata": {},
   "source": [
    "#### Как реализовать асинхронный менеджер контекста?"
   ]
  },
  {
   "cell_type": "code",
   "execution_count": 10,
   "metadata": {},
   "outputs": [],
   "source": [
    "class TransactionCtx:\n",
    "    def __init__(self, conn):\n",
    "        self.conn = conn\n",
    "    \n",
    "    async def __aenter__(self):\n",
    "        await self.conn.execute('BEGIN')\n",
    "        print('entering context')\n",
    "        return self\n",
    "    \n",
    "    async def __aexit__(self, exc_type, exc, tb):\n",
    "        command = 'ROLLBACK' if exc else 'COMMIT'\n",
    "        await self.conn.execute(command)\n",
    "        print('exiting context')"
   ]
  },
  {
   "cell_type": "markdown",
   "metadata": {},
   "source": [
    "#### Как написать асинхронный итератор?"
   ]
  },
  {
   "cell_type": "code",
   "execution_count": 11,
   "metadata": {},
   "outputs": [],
   "source": [
    "class Ticker:\n",
    "    def __init__(self, delay, to):\n",
    "        self.delay = delay\n",
    "        self.i = 0\n",
    "        self.to = to\n",
    "    \n",
    "    def __aiter__(self):\n",
    "        return self\n",
    "\n",
    "    async def __anext__(self):\n",
    "        i = self.i\n",
    "        if i >= self.to:\n",
    "            raise StopAsyncIteration\n",
    "        self.i += 1\n",
    "        if i:\n",
    "            await asyncio.sleep(self.delay)\n",
    "        return i"
   ]
  },
  {
   "cell_type": "markdown",
   "metadata": {},
   "source": [
    "#### Как использовать асинхронный итератор?"
   ]
  },
  {
   "cell_type": "code",
   "execution_count": 12,
   "metadata": {},
   "outputs": [
    {
     "name": "stdout",
     "output_type": "stream",
     "text": [
      "0\n",
      "1\n",
      "2\n",
      "3\n",
      "4\n",
      "5\n",
      "6\n",
      "7\n",
      "8\n",
      "9\n",
      "hm?\n"
     ]
    }
   ],
   "source": [
    "async def main():\n",
    "    async for i in Ticker(1, 10):\n",
    "        print(i)\n",
    "    else:\n",
    "        print('hm?')\n",
    "\n",
    "#asyncio.run(main())\n",
    "await main()"
   ]
  },
  {
   "cell_type": "markdown",
   "metadata": {},
   "source": [
    "#### Как реализовать и использовать асинхронный генератор?"
   ]
  },
  {
   "cell_type": "code",
   "execution_count": 14,
   "metadata": {},
   "outputs": [
    {
     "name": "stdout",
     "output_type": "stream",
     "text": [
      "0\n",
      "1\n",
      "2\n",
      "3\n",
      "4\n",
      "5\n",
      "6\n",
      "7\n",
      "8\n",
      "9\n"
     ]
    }
   ],
   "source": [
    "async def ticker(delay, to):\n",
    "    for i in range(to):\n",
    "        yield i\n",
    "        await asyncio.sleep(delay)\n",
    "\n",
    "async def main():\n",
    "    async for i in ticker(1, 10):\n",
    "        print(i)\n",
    "\n",
    "#asyncio.run(main())\n",
    "await main()"
   ]
  },
  {
   "cell_type": "markdown",
   "metadata": {},
   "source": [
    "#### Asynchronous comprehensions"
   ]
  },
  {
   "cell_type": "code",
   "execution_count": 16,
   "metadata": {},
   "outputs": [
    {
     "name": "stdout",
     "output_type": "stream",
     "text": [
      "[(0, 1), (0, 3), (2, 1), (2, 3), (4, 1), (4, 3)]\n"
     ]
    }
   ],
   "source": [
    "async def ticker(delay, to):\n",
    "    for i in range(to):\n",
    "        yield i\n",
    "        await asyncio.sleep(delay)\n",
    "    \n",
    "async def main():\n",
    "    results = [\n",
    "        (i, j)\n",
    "        async for i in ticker(0.1, 5)\n",
    "        async for j in ticker(0.1, 5)\n",
    "        if not i % 2 and j % 2\n",
    "    ]\n",
    "    print(results)\n",
    "\n",
    "await main()"
   ]
  },
  {
   "cell_type": "markdown",
   "metadata": {},
   "source": [
    "### Aiohttp"
   ]
  },
  {
   "cell_type": "markdown",
   "metadata": {},
   "source": [
    "#### Что это и зачем?"
   ]
  },
  {
   "cell_type": "code",
   "execution_count": 29,
   "metadata": {},
   "outputs": [],
   "source": [
    "import asyncio\n",
    "\n",
    "async def handle(reader, writer):\n",
    "    # get client headers\n",
    "    # parse request headers\n",
    "    # route request (call appropriate handler)\n",
    "    # retrieve request body\n",
    "    # write response headers\n",
    "    # write response payload (body)\n",
    "    pass\n",
    "\n",
    "async def main():\n",
    "    server = await asyncio.start_server(handle, '127.0.0.1', 8888)\n",
    "    async with server:\n",
    "        await server.serve_forever()\n",
    "\n",
    "#asyncio.run(main())\n",
    "await main()"
   ]
  },
  {
   "cell_type": "markdown",
   "metadata": {},
   "source": [
    "#### Пример HTTP сервера"
   ]
  },
  {
   "cell_type": "code",
   "execution_count": null,
   "metadata": {},
   "outputs": [],
   "source": [
    "from aiohttp import web\n",
    "from aiohttp.web import run_app\n",
    "\n",
    "async def handle(request):\n",
    "    return web.Response(text='Meow.')\n",
    "\n",
    "app = web.Application()\n",
    "app.router.add_route('GET', '/', handle)\n",
    "run_app(app, port=8888)"
   ]
  },
  {
   "cell_type": "markdown",
   "metadata": {},
   "source": [
    "#### Пример HTTP клиента"
   ]
  },
  {
   "cell_type": "code",
   "execution_count": null,
   "metadata": {},
   "outputs": [],
   "source": [
    "import asyncio\n",
    "import aiohttp\n",
    "\n",
    "async def main():\n",
    "    async with aiohttp.ClientSession() as session:\n",
    "        async with session.get('http://0.0.0.0:8888') as resp:\n",
    "            print(resp.status) # body не можем распечатать - payloads\n",
    "            print(await resp.text)\n",
    "\n",
    "asyncio.run(main())"
   ]
  },
  {
   "cell_type": "markdown",
   "metadata": {},
   "source": [
    "### Middleware"
   ]
  },
  {
   "cell_type": "markdown",
   "metadata": {},
   "source": [
    "#### Что такое middleware"
   ]
  },
  {
   "cell_type": "code",
   "execution_count": null,
   "metadata": {},
   "outputs": [],
   "source": [
    "async def test(request):\n",
    "    print('Handler function called')\n",
    "    return web.Response(text='Hello')\n",
    "\n",
    "@web.middleware\n",
    "async def middleware(request, handler):\n",
    "    print('Middleware called')\n",
    "    response = await handler(request)\n",
    "    print('Middleware finished')\n",
    "    return response\n",
    "\n",
    "app = web.Application(middlewares=[middleware])\n",
    "app.router.add_get('/', test)\n",
    "web.run_app(app)"
   ]
  },
  {
   "cell_type": "markdown",
   "metadata": {},
   "source": [
    "### Payloads"
   ]
  },
  {
   "cell_type": "markdown",
   "metadata": {},
   "source": [
    "#### Напишем простое aiohttp приложение"
   ]
  },
  {
   "cell_type": "code",
   "execution_count": null,
   "metadata": {},
   "outputs": [],
   "source": [
    "import asyncpg\n",
    "\n",
    "async def init_pg(app):\n",
    "    app['pg'] = await asyncpg.create_pool(\n",
    "        'postgresql://user:me@0.0.0.0/test'\n",
    "    )\n",
    "\n",
    "async def handle(request):\n",
    "    async with request.app['pg'].acquire() as conn:\n",
    "        row = await conn.fetchrow('SELECT 1 as col')\n",
    "    return aiohttp.web.Response(body={'data': row})\n",
    "\n",
    "app = web.Application()\n",
    "app.router.add_route('GET', '/', handle)\n",
    "app.on_startup.append(init_pg)\n",
    "aiohttp.web.run_app(app, port=8082)"
   ]
  },
  {
   "cell_type": "markdown",
   "metadata": {},
   "source": [
    "#### Что такое JsonPayload?"
   ]
  },
  {
   "cell_type": "code",
   "execution_count": null,
   "metadata": {},
   "outputs": [],
   "source": [
    "from json import JSONEncoder\n",
    "\n",
    "class JsonPayload(BytesPayload):\n",
    "\n",
    "    def __init__(self,\n",
    "                value: Any,\n",
    "                encoding: str='utf-8',\n",
    "                content_type: str='application.json',\n",
    "                dumps: JSONEncoder=json.dumps,\n",
    "                *args: Any,\n",
    "                **kwargs: Any) -> None:\n",
    "        \n",
    "        super().__init__(\n",
    "            dumps(value).encode(encoding),\n",
    "            content_type=content_type, encoding=encoding,\n",
    "            *args, **kwargs)"
   ]
  },
  {
   "cell_type": "markdown",
   "metadata": {},
   "source": [
    "#### singledispatch for win"
   ]
  },
  {
   "cell_type": "code",
   "execution_count": 2,
   "metadata": {},
   "outputs": [],
   "source": [
    "from datetime import datetime\n",
    "from functools import singledispatch\n",
    "from asyncpg import Record\n",
    "\n",
    "@singledispatch\n",
    "def convert(value):\n",
    "    raise NotImplementedError(f'Unserializable value: {value!r}')\n",
    "\n",
    "@convert.register(Record)\n",
    "def convert_asyncpg_record(value: Record):\n",
    "    return dict(value)\n",
    "\n",
    "@convert.register(datetime)\n",
    "def convert_datetime(value: datetime):\n",
    "    return value.isoformat()"
   ]
  },
  {
   "cell_type": "markdown",
   "metadata": {},
   "source": [
    "####  Научим aiohttp работать с объектами типа asyncpg.Record и datetime"
   ]
  },
  {
   "cell_type": "code",
   "execution_count": null,
   "metadata": {},
   "outputs": [],
   "source": [
    "from email.policy import default\n",
    "import json\n",
    "from functools import partialmethod, partial\n",
    "from typing import Mapping\n",
    "\n",
    "dumps = partial(json.dumps, default=convert)\n",
    "\n",
    "class UniversalJsonPayload(JsonPayload):\n",
    "    __init__ = partialmethod(JsonPayload.__init__, dumps=dumps)\n",
    "\n",
    "PAYLOAD_REGISTRY.register(UniversalJsonPayload, Mapping)"
   ]
  }
 ],
 "metadata": {
  "kernelspec": {
   "display_name": "Python 3.9.9 ('venv-vsc': venv)",
   "language": "python",
   "name": "python3"
  },
  "language_info": {
   "codemirror_mode": {
    "name": "ipython",
    "version": 3
   },
   "file_extension": ".py",
   "mimetype": "text/x-python",
   "name": "python",
   "nbconvert_exporter": "python",
   "pygments_lexer": "ipython3",
   "version": "3.9.9"
  },
  "orig_nbformat": 4,
  "vscode": {
   "interpreter": {
    "hash": "43807f5c999ff1bc99c26ab56886fdb0eb1ab623df40ddad9a297a39d65cf47c"
   }
  }
 },
 "nbformat": 4,
 "nbformat_minor": 2
}
